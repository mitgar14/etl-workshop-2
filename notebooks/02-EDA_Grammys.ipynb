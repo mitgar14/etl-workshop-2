{
 "cells": [
  {
   "cell_type": "markdown",
   "metadata": {},
   "source": [
    "# **Workshop #2**\n",
    "\n",
    "### *EDA - `the_grammy_awards` dataset*\n",
    "---"
   ]
  },
  {
   "cell_type": "markdown",
   "metadata": {},
   "source": [
    "## ***Setting the project directory***\n",
    "This script attempts to change the current working directory to the specified path.\n",
    "If the directory change fails due to the directory not being found, it prints a message indicating that the user is already in the correct directory."
   ]
  },
  {
   "cell_type": "code",
   "execution_count": 1,
   "metadata": {},
   "outputs": [],
   "source": [
    "import os\n",
    "\n",
    "try:\n",
    "    os.chdir(\"../../Workshop #2\")\n",
    "except FileNotFoundError:\n",
    "    print(\"You are already in the correct directory.\")"
   ]
  },
  {
   "cell_type": "markdown",
   "metadata": {},
   "source": [
    "## ***Importing dependencies***\n",
    "\n",
    "**Modules:**\n",
    "* **src.database.db_operations**: Custom module for database operations.\n",
    "\n",
    "**For this environment we are using:**\n",
    "* ***Pandas*** >= 2.2.2\n",
    "* ***matplotlib*** >= 3.9.2\n",
    "* ***seaborn*** >= 0.13.2\n",
    "\n",
    "**From the src.db module, we are also using:**\n",
    "* ***SQLAlchemy*** >= 2.0.32\n",
    "    * *SQLAlchemy Utils* >= 0.41.2\n",
    "* ***python-dotenv*** >= 1.0.1"
   ]
  },
  {
   "cell_type": "code",
   "execution_count": 2,
   "metadata": {},
   "outputs": [],
   "source": [
    "from src.database.db_operations import creating_engine, disposing_engine\n",
    "from collections import Counter\n",
    "\n",
    "import re\n",
    "import pandas as pd\n",
    "\n",
    "import matplotlib.pyplot as plt\n",
    "import seaborn as sns\n",
    "\n",
    "plt.style.use(\"ggplot\")"
   ]
  },
  {
   "cell_type": "markdown",
   "metadata": {},
   "source": [
    "## ***Reading the data***\n",
    "\n",
    "In this code block we are in charge of creating the database connection engine. The `creating_engine` function comes from the `src.database.db_operations` module."
   ]
  },
  {
   "cell_type": "code",
   "execution_count": 3,
   "metadata": {},
   "outputs": [
    {
     "name": "stderr",
     "output_type": "stream",
     "text": [
      "16/09/2024 01:29:01 PM Engine created. You can now connect to the database.\n"
     ]
    }
   ],
   "source": [
    "engine = creating_engine()"
   ]
  },
  {
   "cell_type": "markdown",
   "metadata": {},
   "source": [
    "To fetch the data we must read the *grammy_awards_raw* table coming from our PostgreSQL database."
   ]
  },
  {
   "cell_type": "code",
   "execution_count": 4,
   "metadata": {},
   "outputs": [
    {
     "data": {
      "text/html": [
       "<div>\n",
       "<style scoped>\n",
       "    .dataframe tbody tr th:only-of-type {\n",
       "        vertical-align: middle;\n",
       "    }\n",
       "\n",
       "    .dataframe tbody tr th {\n",
       "        vertical-align: top;\n",
       "    }\n",
       "\n",
       "    .dataframe thead th {\n",
       "        text-align: right;\n",
       "    }\n",
       "</style>\n",
       "<table border=\"1\" class=\"dataframe\">\n",
       "  <thead>\n",
       "    <tr style=\"text-align: right;\">\n",
       "      <th></th>\n",
       "      <th>year</th>\n",
       "      <th>title</th>\n",
       "      <th>published_at</th>\n",
       "      <th>updated_at</th>\n",
       "      <th>category</th>\n",
       "      <th>nominee</th>\n",
       "      <th>artist</th>\n",
       "      <th>workers</th>\n",
       "      <th>img</th>\n",
       "      <th>winner</th>\n",
       "    </tr>\n",
       "  </thead>\n",
       "  <tbody>\n",
       "    <tr>\n",
       "      <th>0</th>\n",
       "      <td>2019</td>\n",
       "      <td>62nd Annual GRAMMY Awards  (2019)</td>\n",
       "      <td>2020-05-19T05:10:28-07:00</td>\n",
       "      <td>2020-05-19T05:10:28-07:00</td>\n",
       "      <td>Record Of The Year</td>\n",
       "      <td>Bad Guy</td>\n",
       "      <td>Billie Eilish</td>\n",
       "      <td>Finneas O'Connell, producer; Rob Kinelski &amp; Fi...</td>\n",
       "      <td>https://www.grammy.com/sites/com/files/styles/...</td>\n",
       "      <td>True</td>\n",
       "    </tr>\n",
       "    <tr>\n",
       "      <th>1</th>\n",
       "      <td>2019</td>\n",
       "      <td>62nd Annual GRAMMY Awards  (2019)</td>\n",
       "      <td>2020-05-19T05:10:28-07:00</td>\n",
       "      <td>2020-05-19T05:10:28-07:00</td>\n",
       "      <td>Record Of The Year</td>\n",
       "      <td>Hey, Ma</td>\n",
       "      <td>Bon Iver</td>\n",
       "      <td>BJ Burton, Brad Cook, Chris Messina &amp; Justin V...</td>\n",
       "      <td>https://www.grammy.com/sites/com/files/styles/...</td>\n",
       "      <td>True</td>\n",
       "    </tr>\n",
       "    <tr>\n",
       "      <th>2</th>\n",
       "      <td>2019</td>\n",
       "      <td>62nd Annual GRAMMY Awards  (2019)</td>\n",
       "      <td>2020-05-19T05:10:28-07:00</td>\n",
       "      <td>2020-05-19T05:10:28-07:00</td>\n",
       "      <td>Record Of The Year</td>\n",
       "      <td>7 rings</td>\n",
       "      <td>Ariana Grande</td>\n",
       "      <td>Charles Anderson, Tommy Brown, Michael Foster ...</td>\n",
       "      <td>https://www.grammy.com/sites/com/files/styles/...</td>\n",
       "      <td>True</td>\n",
       "    </tr>\n",
       "    <tr>\n",
       "      <th>3</th>\n",
       "      <td>2019</td>\n",
       "      <td>62nd Annual GRAMMY Awards  (2019)</td>\n",
       "      <td>2020-05-19T05:10:28-07:00</td>\n",
       "      <td>2020-05-19T05:10:28-07:00</td>\n",
       "      <td>Record Of The Year</td>\n",
       "      <td>Hard Place</td>\n",
       "      <td>H.E.R.</td>\n",
       "      <td>Rodney “Darkchild” Jerkins, producer; Joseph H...</td>\n",
       "      <td>https://www.grammy.com/sites/com/files/styles/...</td>\n",
       "      <td>True</td>\n",
       "    </tr>\n",
       "    <tr>\n",
       "      <th>4</th>\n",
       "      <td>2019</td>\n",
       "      <td>62nd Annual GRAMMY Awards  (2019)</td>\n",
       "      <td>2020-05-19T05:10:28-07:00</td>\n",
       "      <td>2020-05-19T05:10:28-07:00</td>\n",
       "      <td>Record Of The Year</td>\n",
       "      <td>Talk</td>\n",
       "      <td>Khalid</td>\n",
       "      <td>Disclosure &amp; Denis Kosiak, producers; Ingmar C...</td>\n",
       "      <td>https://www.grammy.com/sites/com/files/styles/...</td>\n",
       "      <td>True</td>\n",
       "    </tr>\n",
       "  </tbody>\n",
       "</table>\n",
       "</div>"
      ],
      "text/plain": [
       "   year                              title               published_at  \\\n",
       "0  2019  62nd Annual GRAMMY Awards  (2019)  2020-05-19T05:10:28-07:00   \n",
       "1  2019  62nd Annual GRAMMY Awards  (2019)  2020-05-19T05:10:28-07:00   \n",
       "2  2019  62nd Annual GRAMMY Awards  (2019)  2020-05-19T05:10:28-07:00   \n",
       "3  2019  62nd Annual GRAMMY Awards  (2019)  2020-05-19T05:10:28-07:00   \n",
       "4  2019  62nd Annual GRAMMY Awards  (2019)  2020-05-19T05:10:28-07:00   \n",
       "\n",
       "                  updated_at            category     nominee         artist  \\\n",
       "0  2020-05-19T05:10:28-07:00  Record Of The Year     Bad Guy  Billie Eilish   \n",
       "1  2020-05-19T05:10:28-07:00  Record Of The Year     Hey, Ma       Bon Iver   \n",
       "2  2020-05-19T05:10:28-07:00  Record Of The Year     7 rings  Ariana Grande   \n",
       "3  2020-05-19T05:10:28-07:00  Record Of The Year  Hard Place         H.E.R.   \n",
       "4  2020-05-19T05:10:28-07:00  Record Of The Year        Talk         Khalid   \n",
       "\n",
       "                                             workers  \\\n",
       "0  Finneas O'Connell, producer; Rob Kinelski & Fi...   \n",
       "1  BJ Burton, Brad Cook, Chris Messina & Justin V...   \n",
       "2  Charles Anderson, Tommy Brown, Michael Foster ...   \n",
       "3  Rodney “Darkchild” Jerkins, producer; Joseph H...   \n",
       "4  Disclosure & Denis Kosiak, producers; Ingmar C...   \n",
       "\n",
       "                                                 img  winner  \n",
       "0  https://www.grammy.com/sites/com/files/styles/...    True  \n",
       "1  https://www.grammy.com/sites/com/files/styles/...    True  \n",
       "2  https://www.grammy.com/sites/com/files/styles/...    True  \n",
       "3  https://www.grammy.com/sites/com/files/styles/...    True  \n",
       "4  https://www.grammy.com/sites/com/files/styles/...    True  "
      ]
     },
     "execution_count": 4,
     "metadata": {},
     "output_type": "execute_result"
    }
   ],
   "source": [
    "grammys_data = pd.read_sql_table(\"grammy_awards_raw\", engine)\n",
    "grammys_data.head()"
   ]
  },
  {
   "cell_type": "markdown",
   "metadata": {},
   "source": [
    "## ***Data preparation***\n",
    "---"
   ]
  },
  {
   "cell_type": "markdown",
   "metadata": {},
   "source": [
    "### **Reviewing the dataset**\n",
    "\n",
    "The Grammy dataset contains a total of 4.810 entries with 10 columns. The columns provide the following information:\n",
    "\n",
    "**String columns (object type):**\n",
    "- `title`: Title of the Grammy nomination.\n",
    "- `published_at`: Date the nomination was published.\n",
    "- `updated_at`: Date the nomination was last updated.\n",
    "- `category`: The Grammy category.\n",
    "- `nominee`: The person or group nominated.\n",
    "- `artist`: The artist involved (if applicable).\n",
    "- `workers`: People involved in the production.\n",
    "- `img`: URL for an image related to the nomination.\n",
    "\n",
    "**Numerical columns (int64 type):**\n",
    "- `year`: The year of the Grammy nomination.\n",
    "\n",
    "**Boolean column (bool type):**\n",
    "- `winner`: Indicates if the nominee won the Grammy."
   ]
  },
  {
   "cell_type": "code",
   "execution_count": 5,
   "metadata": {},
   "outputs": [],
   "source": [
    "df = grammys_data.copy()"
   ]
  },
  {
   "cell_type": "code",
   "execution_count": 6,
   "metadata": {},
   "outputs": [
    {
     "name": "stdout",
     "output_type": "stream",
     "text": [
      "<class 'pandas.core.frame.DataFrame'>\n",
      "RangeIndex: 4810 entries, 0 to 4809\n",
      "Data columns (total 10 columns):\n",
      " #   Column        Non-Null Count  Dtype \n",
      "---  ------        --------------  ----- \n",
      " 0   year          4810 non-null   int64 \n",
      " 1   title         4810 non-null   object\n",
      " 2   published_at  4810 non-null   object\n",
      " 3   updated_at    4810 non-null   object\n",
      " 4   category      4810 non-null   object\n",
      " 5   nominee       4804 non-null   object\n",
      " 6   artist        2970 non-null   object\n",
      " 7   workers       2620 non-null   object\n",
      " 8   img           3443 non-null   object\n",
      " 9   winner        4810 non-null   bool  \n",
      "dtypes: bool(1), int64(1), object(8)\n",
      "memory usage: 343.0+ KB\n"
     ]
    }
   ],
   "source": [
    "df.info()"
   ]
  },
  {
   "cell_type": "markdown",
   "metadata": {},
   "source": [
    "### **Checking the unique and null values**\n",
    "\n",
    "Looking at the results, we noticed something strange in the number of unique values of *winner*, who has only 1 value. This finding will be analyzed in depth later."
   ]
  },
  {
   "cell_type": "code",
   "execution_count": 7,
   "metadata": {},
   "outputs": [
    {
     "data": {
      "text/plain": [
       "year              62\n",
       "title             62\n",
       "published_at       4\n",
       "updated_at        10\n",
       "category         638\n",
       "nominee         4131\n",
       "artist          1658\n",
       "workers         2366\n",
       "img             1463\n",
       "winner             1\n",
       "dtype: int64"
      ]
     },
     "execution_count": 7,
     "metadata": {},
     "output_type": "execute_result"
    }
   ],
   "source": [
    "df.nunique()"
   ]
  },
  {
   "cell_type": "markdown",
   "metadata": {},
   "source": [
    "It is interesting the important amount of null values for *artist* and *workers*, moreover: these columns are the most important in our dataset, because they are the ones that give the most description and value to our record. We will see later how the null values of these two columns could be handled."
   ]
  },
  {
   "cell_type": "code",
   "execution_count": 8,
   "metadata": {},
   "outputs": [
    {
     "data": {
      "text/plain": [
       "year               0\n",
       "title              0\n",
       "published_at       0\n",
       "updated_at         0\n",
       "category           0\n",
       "nominee            6\n",
       "artist          1840\n",
       "workers         2190\n",
       "img             1367\n",
       "winner             0\n",
       "dtype: int64"
      ]
     },
     "execution_count": 8,
     "metadata": {},
     "output_type": "execute_result"
    }
   ],
   "source": [
    "df.isnull().sum()"
   ]
  },
  {
   "cell_type": "markdown",
   "metadata": {},
   "source": [
    "### **Are these columns useful?**"
   ]
  },
  {
   "cell_type": "markdown",
   "metadata": {},
   "source": [
    "#### **Published At and Updated At column**\n",
    "\n",
    "In the analysis of the dataset I could not apply a clear use of the values of these two columns. The dates have no relation with the date of the event, or with any ephemeris related to this event. Therefore, I am going to delete them from the dataframe."
   ]
  },
  {
   "cell_type": "code",
   "execution_count": 9,
   "metadata": {},
   "outputs": [
    {
     "data": {
      "text/plain": [
       "published_at\n",
       "2017-11-28T00:03:45-08:00    4205\n",
       "2020-05-19T05:10:28-07:00     433\n",
       "2018-12-06T23:48:49-08:00      86\n",
       "2018-05-22T03:08:24-07:00      86\n",
       "Name: count, dtype: int64"
      ]
     },
     "execution_count": 9,
     "metadata": {},
     "output_type": "execute_result"
    }
   ],
   "source": [
    "df[\"published_at\"].value_counts()"
   ]
  },
  {
   "cell_type": "code",
   "execution_count": 10,
   "metadata": {},
   "outputs": [
    {
     "data": {
      "text/plain": [
       "updated_at\n",
       "2019-09-10T01:08:19-07:00    778\n",
       "2019-09-10T01:06:11-07:00    754\n",
       "2019-09-10T01:07:37-07:00    713\n",
       "2019-09-10T01:06:59-07:00    681\n",
       "2019-09-10T01:11:09-07:00    658\n",
       "2019-09-10T01:09:02-07:00    554\n",
       "2020-05-19T05:10:28-07:00    433\n",
       "2017-11-28T00:03:45-08:00    108\n",
       "2020-09-01T12:16:40-07:00     83\n",
       "2019-09-10T01:11:48-07:00     48\n",
       "Name: count, dtype: int64"
      ]
     },
     "execution_count": 10,
     "metadata": {},
     "output_type": "execute_result"
    }
   ],
   "source": [
    "df[\"updated_at\"].value_counts()"
   ]
  },
  {
   "cell_type": "markdown",
   "metadata": {},
   "source": [
    "#### **Image column**\n",
    "Let's check if any of these images can be used or are available."
   ]
  },
  {
   "cell_type": "code",
   "execution_count": 11,
   "metadata": {},
   "outputs": [
    {
     "data": {
      "text/plain": [
       "'https://www.grammy.com/sites/com/files/styles/artist_circle/public/muzooka/Billie%2BEilish/Billie%2520Eilish_1_1_1594138954.jpg?itok=3-71Dfxh'"
      ]
     },
     "execution_count": 11,
     "metadata": {},
     "output_type": "execute_result"
    }
   ],
   "source": [
    "df.loc[0, \"img\"]"
   ]
  },
  {
   "cell_type": "markdown",
   "metadata": {},
   "source": [
    "As we see in the output below, many of these images are **no longer available** to the public. This column is of no use whatsoever.\n",
    "\n",
    "![Billie Elish](\"https://www.grammy.com/sites/com/files/styles/artist_circle/public/muzooka/Billie%2BEilish/Billie%2520Eilish_1_1_1594138954.jpg?itok=3-71Dfxh\")"
   ]
  },
  {
   "cell_type": "markdown",
   "metadata": {},
   "source": [
    "#### **Winner column**\n",
    "\n",
    "We note that the only value available in this column is True, although in some editions the losers in certain categories are also included.\n",
    "\n",
    "So little information really prevents us from differentiating the true winners from the other nominees. Unless what this column really indicates is whether the artist was nominated.\n",
    "\n",
    "In search of a merge criterion, this column is quite useful for us. However, it needs a name change: let's call it *is_nominated*."
   ]
  },
  {
   "cell_type": "code",
   "execution_count": 12,
   "metadata": {},
   "outputs": [
    {
     "data": {
      "text/plain": [
       "winner\n",
       "True    4810\n",
       "Name: count, dtype: int64"
      ]
     },
     "execution_count": 12,
     "metadata": {},
     "output_type": "execute_result"
    }
   ],
   "source": [
    "df[\"winner\"].value_counts()"
   ]
  },
  {
   "cell_type": "code",
   "execution_count": 13,
   "metadata": {},
   "outputs": [],
   "source": [
    "df = df.rename(columns={\"winner\":\"is_nominated\"})"
   ]
  },
  {
   "cell_type": "markdown",
   "metadata": {},
   "source": [
    "#### **Finally, we remove unnecessary columns**"
   ]
  },
  {
   "cell_type": "code",
   "execution_count": 14,
   "metadata": {},
   "outputs": [],
   "source": [
    "df = df.drop(columns=[\"published_at\", \"updated_at\", \"img\"])"
   ]
  },
  {
   "cell_type": "code",
   "execution_count": 15,
   "metadata": {},
   "outputs": [
    {
     "data": {
      "text/html": [
       "<div>\n",
       "<style scoped>\n",
       "    .dataframe tbody tr th:only-of-type {\n",
       "        vertical-align: middle;\n",
       "    }\n",
       "\n",
       "    .dataframe tbody tr th {\n",
       "        vertical-align: top;\n",
       "    }\n",
       "\n",
       "    .dataframe thead th {\n",
       "        text-align: right;\n",
       "    }\n",
       "</style>\n",
       "<table border=\"1\" class=\"dataframe\">\n",
       "  <thead>\n",
       "    <tr style=\"text-align: right;\">\n",
       "      <th></th>\n",
       "      <th>year</th>\n",
       "      <th>title</th>\n",
       "      <th>category</th>\n",
       "      <th>nominee</th>\n",
       "      <th>artist</th>\n",
       "      <th>workers</th>\n",
       "      <th>is_nominated</th>\n",
       "    </tr>\n",
       "  </thead>\n",
       "  <tbody>\n",
       "    <tr>\n",
       "      <th>0</th>\n",
       "      <td>2019</td>\n",
       "      <td>62nd Annual GRAMMY Awards  (2019)</td>\n",
       "      <td>Record Of The Year</td>\n",
       "      <td>Bad Guy</td>\n",
       "      <td>Billie Eilish</td>\n",
       "      <td>Finneas O'Connell, producer; Rob Kinelski &amp; Fi...</td>\n",
       "      <td>True</td>\n",
       "    </tr>\n",
       "    <tr>\n",
       "      <th>1</th>\n",
       "      <td>2019</td>\n",
       "      <td>62nd Annual GRAMMY Awards  (2019)</td>\n",
       "      <td>Record Of The Year</td>\n",
       "      <td>Hey, Ma</td>\n",
       "      <td>Bon Iver</td>\n",
       "      <td>BJ Burton, Brad Cook, Chris Messina &amp; Justin V...</td>\n",
       "      <td>True</td>\n",
       "    </tr>\n",
       "    <tr>\n",
       "      <th>2</th>\n",
       "      <td>2019</td>\n",
       "      <td>62nd Annual GRAMMY Awards  (2019)</td>\n",
       "      <td>Record Of The Year</td>\n",
       "      <td>7 rings</td>\n",
       "      <td>Ariana Grande</td>\n",
       "      <td>Charles Anderson, Tommy Brown, Michael Foster ...</td>\n",
       "      <td>True</td>\n",
       "    </tr>\n",
       "    <tr>\n",
       "      <th>3</th>\n",
       "      <td>2019</td>\n",
       "      <td>62nd Annual GRAMMY Awards  (2019)</td>\n",
       "      <td>Record Of The Year</td>\n",
       "      <td>Hard Place</td>\n",
       "      <td>H.E.R.</td>\n",
       "      <td>Rodney “Darkchild” Jerkins, producer; Joseph H...</td>\n",
       "      <td>True</td>\n",
       "    </tr>\n",
       "    <tr>\n",
       "      <th>4</th>\n",
       "      <td>2019</td>\n",
       "      <td>62nd Annual GRAMMY Awards  (2019)</td>\n",
       "      <td>Record Of The Year</td>\n",
       "      <td>Talk</td>\n",
       "      <td>Khalid</td>\n",
       "      <td>Disclosure &amp; Denis Kosiak, producers; Ingmar C...</td>\n",
       "      <td>True</td>\n",
       "    </tr>\n",
       "  </tbody>\n",
       "</table>\n",
       "</div>"
      ],
      "text/plain": [
       "   year                              title            category     nominee  \\\n",
       "0  2019  62nd Annual GRAMMY Awards  (2019)  Record Of The Year     Bad Guy   \n",
       "1  2019  62nd Annual GRAMMY Awards  (2019)  Record Of The Year     Hey, Ma   \n",
       "2  2019  62nd Annual GRAMMY Awards  (2019)  Record Of The Year     7 rings   \n",
       "3  2019  62nd Annual GRAMMY Awards  (2019)  Record Of The Year  Hard Place   \n",
       "4  2019  62nd Annual GRAMMY Awards  (2019)  Record Of The Year        Talk   \n",
       "\n",
       "          artist                                            workers  \\\n",
       "0  Billie Eilish  Finneas O'Connell, producer; Rob Kinelski & Fi...   \n",
       "1       Bon Iver  BJ Burton, Brad Cook, Chris Messina & Justin V...   \n",
       "2  Ariana Grande  Charles Anderson, Tommy Brown, Michael Foster ...   \n",
       "3         H.E.R.  Rodney “Darkchild” Jerkins, producer; Joseph H...   \n",
       "4         Khalid  Disclosure & Denis Kosiak, producers; Ingmar C...   \n",
       "\n",
       "   is_nominated  \n",
       "0          True  \n",
       "1          True  \n",
       "2          True  \n",
       "3          True  \n",
       "4          True  "
      ]
     },
     "execution_count": 15,
     "metadata": {},
     "output_type": "execute_result"
    }
   ],
   "source": [
    "df.head()"
   ]
  },
  {
   "cell_type": "markdown",
   "metadata": {},
   "source": [
    "### **Handling of null values**"
   ]
  },
  {
   "cell_type": "markdown",
   "metadata": {},
   "source": [
    "#### *Nominee*\n",
    "\n",
    "The *nominee* column only presents 6 null records, which gives us the possibility to further detail its null values and review the possibility of eliminating these rows.\n",
    "\n",
    "Looking at the null records for *nominee*, it is observed that none of these values actually communicate a specific nominee. Therefore, it does not represent something valuable."
   ]
  },
  {
   "cell_type": "code",
   "execution_count": 16,
   "metadata": {},
   "outputs": [
    {
     "data": {
      "text/html": [
       "<div>\n",
       "<style scoped>\n",
       "    .dataframe tbody tr th:only-of-type {\n",
       "        vertical-align: middle;\n",
       "    }\n",
       "\n",
       "    .dataframe tbody tr th {\n",
       "        vertical-align: top;\n",
       "    }\n",
       "\n",
       "    .dataframe thead th {\n",
       "        text-align: right;\n",
       "    }\n",
       "</style>\n",
       "<table border=\"1\" class=\"dataframe\">\n",
       "  <thead>\n",
       "    <tr style=\"text-align: right;\">\n",
       "      <th></th>\n",
       "      <th>year</th>\n",
       "      <th>title</th>\n",
       "      <th>category</th>\n",
       "      <th>nominee</th>\n",
       "      <th>artist</th>\n",
       "      <th>workers</th>\n",
       "      <th>is_nominated</th>\n",
       "    </tr>\n",
       "  </thead>\n",
       "  <tbody>\n",
       "    <tr>\n",
       "      <th>2274</th>\n",
       "      <td>2000</td>\n",
       "      <td>43rd Annual GRAMMY Awards  (2000)</td>\n",
       "      <td>Remixer of the Year, Non-Classical</td>\n",
       "      <td>None</td>\n",
       "      <td>None</td>\n",
       "      <td>None</td>\n",
       "      <td>True</td>\n",
       "    </tr>\n",
       "    <tr>\n",
       "      <th>2372</th>\n",
       "      <td>1999</td>\n",
       "      <td>42nd Annual GRAMMY Awards  (1999)</td>\n",
       "      <td>Remixer Of The Year, Non-Classical</td>\n",
       "      <td>None</td>\n",
       "      <td>None</td>\n",
       "      <td>None</td>\n",
       "      <td>True</td>\n",
       "    </tr>\n",
       "    <tr>\n",
       "      <th>2464</th>\n",
       "      <td>1998</td>\n",
       "      <td>41st Annual GRAMMY Awards  (1998)</td>\n",
       "      <td>Remixer Of The Year, Non-classical</td>\n",
       "      <td>None</td>\n",
       "      <td>None</td>\n",
       "      <td>None</td>\n",
       "      <td>True</td>\n",
       "    </tr>\n",
       "    <tr>\n",
       "      <th>2560</th>\n",
       "      <td>1997</td>\n",
       "      <td>40th Annual GRAMMY Awards  (1997)</td>\n",
       "      <td>Remixer Of The Year, Non-Classical</td>\n",
       "      <td>None</td>\n",
       "      <td>None</td>\n",
       "      <td>None</td>\n",
       "      <td>True</td>\n",
       "    </tr>\n",
       "    <tr>\n",
       "      <th>4527</th>\n",
       "      <td>1965</td>\n",
       "      <td>8th Annual GRAMMY Awards  (1965)</td>\n",
       "      <td>Best New Country &amp; Western Artist</td>\n",
       "      <td>None</td>\n",
       "      <td>None</td>\n",
       "      <td>None</td>\n",
       "      <td>True</td>\n",
       "    </tr>\n",
       "    <tr>\n",
       "      <th>4574</th>\n",
       "      <td>1964</td>\n",
       "      <td>7th Annual GRAMMY Awards  (1964)</td>\n",
       "      <td>Best New Country &amp; Western Artist Of 1964</td>\n",
       "      <td>None</td>\n",
       "      <td>None</td>\n",
       "      <td>None</td>\n",
       "      <td>True</td>\n",
       "    </tr>\n",
       "  </tbody>\n",
       "</table>\n",
       "</div>"
      ],
      "text/plain": [
       "      year                              title  \\\n",
       "2274  2000  43rd Annual GRAMMY Awards  (2000)   \n",
       "2372  1999  42nd Annual GRAMMY Awards  (1999)   \n",
       "2464  1998  41st Annual GRAMMY Awards  (1998)   \n",
       "2560  1997  40th Annual GRAMMY Awards  (1997)   \n",
       "4527  1965   8th Annual GRAMMY Awards  (1965)   \n",
       "4574  1964   7th Annual GRAMMY Awards  (1964)   \n",
       "\n",
       "                                       category nominee artist workers  \\\n",
       "2274         Remixer of the Year, Non-Classical    None   None    None   \n",
       "2372         Remixer Of The Year, Non-Classical    None   None    None   \n",
       "2464         Remixer Of The Year, Non-classical    None   None    None   \n",
       "2560         Remixer Of The Year, Non-Classical    None   None    None   \n",
       "4527          Best New Country & Western Artist    None   None    None   \n",
       "4574  Best New Country & Western Artist Of 1964    None   None    None   \n",
       "\n",
       "      is_nominated  \n",
       "2274          True  \n",
       "2372          True  \n",
       "2464          True  \n",
       "2560          True  \n",
       "4527          True  \n",
       "4574          True  "
      ]
     },
     "execution_count": 16,
     "metadata": {},
     "output_type": "execute_result"
    }
   ],
   "source": [
    "df.loc[df[\"nominee\"].isna()]"
   ]
  },
  {
   "cell_type": "code",
   "execution_count": 17,
   "metadata": {},
   "outputs": [
    {
     "data": {
      "text/html": [
       "<div>\n",
       "<style scoped>\n",
       "    .dataframe tbody tr th:only-of-type {\n",
       "        vertical-align: middle;\n",
       "    }\n",
       "\n",
       "    .dataframe tbody tr th {\n",
       "        vertical-align: top;\n",
       "    }\n",
       "\n",
       "    .dataframe thead th {\n",
       "        text-align: right;\n",
       "    }\n",
       "</style>\n",
       "<table border=\"1\" class=\"dataframe\">\n",
       "  <thead>\n",
       "    <tr style=\"text-align: right;\">\n",
       "      <th></th>\n",
       "      <th>year</th>\n",
       "      <th>title</th>\n",
       "      <th>category</th>\n",
       "      <th>nominee</th>\n",
       "      <th>artist</th>\n",
       "      <th>workers</th>\n",
       "      <th>is_nominated</th>\n",
       "    </tr>\n",
       "  </thead>\n",
       "  <tbody>\n",
       "  </tbody>\n",
       "</table>\n",
       "</div>"
      ],
      "text/plain": [
       "Empty DataFrame\n",
       "Columns: [year, title, category, nominee, artist, workers, is_nominated]\n",
       "Index: []"
      ]
     },
     "execution_count": 17,
     "metadata": {},
     "output_type": "execute_result"
    }
   ],
   "source": [
    "df = df.dropna(subset=[\"nominee\"])\n",
    "df.loc[df[\"nominee\"].isna()]"
   ]
  },
  {
   "cell_type": "markdown",
   "metadata": {},
   "source": [
    "#### *Artist and Workers*\n",
    "\n",
    "For the imputation of null values in this case, we can analyze different cases as we will do below:"
   ]
  },
  {
   "cell_type": "markdown",
   "metadata": {},
   "source": [
    "##### **Artist and Workers - Both are null**\n",
    "\n",
    "> One thing that one realizes when performing the analysis is how little importance the *workers* column alone has in the analysis of the data. However, it is quite important at the time of transforming the data, so it will not be eliminated before that process.\n",
    "\n",
    "For this case, we will review the cases where both columns have null values. Usually, this type of situation is found in **Best New Artist** and **Producer Of The Year** nominees, where the artist is the nominee at the same time. Following this logic, the nominee can be the artist as well. \n",
    "\n",
    "Let's see the cases where we can afford that by checking the values in *category*."
   ]
  },
  {
   "cell_type": "code",
   "execution_count": 18,
   "metadata": {},
   "outputs": [
    {
     "data": {
      "text/html": [
       "<div>\n",
       "<style scoped>\n",
       "    .dataframe tbody tr th:only-of-type {\n",
       "        vertical-align: middle;\n",
       "    }\n",
       "\n",
       "    .dataframe tbody tr th {\n",
       "        vertical-align: top;\n",
       "    }\n",
       "\n",
       "    .dataframe thead th {\n",
       "        text-align: right;\n",
       "    }\n",
       "</style>\n",
       "<table border=\"1\" class=\"dataframe\">\n",
       "  <thead>\n",
       "    <tr style=\"text-align: right;\">\n",
       "      <th></th>\n",
       "      <th>year</th>\n",
       "      <th>title</th>\n",
       "      <th>category</th>\n",
       "      <th>nominee</th>\n",
       "      <th>artist</th>\n",
       "      <th>workers</th>\n",
       "      <th>is_nominated</th>\n",
       "    </tr>\n",
       "  </thead>\n",
       "  <tbody>\n",
       "    <tr>\n",
       "      <th>24</th>\n",
       "      <td>2019</td>\n",
       "      <td>62nd Annual GRAMMY Awards  (2019)</td>\n",
       "      <td>Best New Artist</td>\n",
       "      <td>Billie Eilish</td>\n",
       "      <td>None</td>\n",
       "      <td>None</td>\n",
       "      <td>True</td>\n",
       "    </tr>\n",
       "    <tr>\n",
       "      <th>25</th>\n",
       "      <td>2019</td>\n",
       "      <td>62nd Annual GRAMMY Awards  (2019)</td>\n",
       "      <td>Best New Artist</td>\n",
       "      <td>Black Pumas</td>\n",
       "      <td>None</td>\n",
       "      <td>None</td>\n",
       "      <td>True</td>\n",
       "    </tr>\n",
       "    <tr>\n",
       "      <th>26</th>\n",
       "      <td>2019</td>\n",
       "      <td>62nd Annual GRAMMY Awards  (2019)</td>\n",
       "      <td>Best New Artist</td>\n",
       "      <td>Lil Nas X</td>\n",
       "      <td>None</td>\n",
       "      <td>None</td>\n",
       "      <td>True</td>\n",
       "    </tr>\n",
       "    <tr>\n",
       "      <th>27</th>\n",
       "      <td>2019</td>\n",
       "      <td>62nd Annual GRAMMY Awards  (2019)</td>\n",
       "      <td>Best New Artist</td>\n",
       "      <td>Lizzo</td>\n",
       "      <td>None</td>\n",
       "      <td>None</td>\n",
       "      <td>True</td>\n",
       "    </tr>\n",
       "    <tr>\n",
       "      <th>28</th>\n",
       "      <td>2019</td>\n",
       "      <td>62nd Annual GRAMMY Awards  (2019)</td>\n",
       "      <td>Best New Artist</td>\n",
       "      <td>Maggie Rogers</td>\n",
       "      <td>None</td>\n",
       "      <td>None</td>\n",
       "      <td>True</td>\n",
       "    </tr>\n",
       "  </tbody>\n",
       "</table>\n",
       "</div>"
      ],
      "text/plain": [
       "    year                              title         category        nominee  \\\n",
       "24  2019  62nd Annual GRAMMY Awards  (2019)  Best New Artist  Billie Eilish   \n",
       "25  2019  62nd Annual GRAMMY Awards  (2019)  Best New Artist    Black Pumas   \n",
       "26  2019  62nd Annual GRAMMY Awards  (2019)  Best New Artist      Lil Nas X   \n",
       "27  2019  62nd Annual GRAMMY Awards  (2019)  Best New Artist          Lizzo   \n",
       "28  2019  62nd Annual GRAMMY Awards  (2019)  Best New Artist  Maggie Rogers   \n",
       "\n",
       "   artist workers  is_nominated  \n",
       "24   None    None          True  \n",
       "25   None    None          True  \n",
       "26   None    None          True  \n",
       "27   None    None          True  \n",
       "28   None    None          True  "
      ]
     },
     "execution_count": 18,
     "metadata": {},
     "output_type": "execute_result"
    }
   ],
   "source": [
    "both_null_values = df.loc[df[\"artist\"].isna() & df[\"workers\"].isna()]\n",
    "both_null_values.head()"
   ]
  },
  {
   "cell_type": "code",
   "execution_count": 19,
   "metadata": {},
   "outputs": [
    {
     "data": {
      "text/plain": [
       "category\n",
       "Best New Artist                                                                              50\n",
       "Producer Of The Year, Non-Classical                                                          22\n",
       "Producer Of The Year, Classical                                                              22\n",
       "Classical Producer Of The Year                                                               18\n",
       "Producer Of The Year (Non-Classical)                                                         10\n",
       "Producer Of The Year                                                                         10\n",
       "Best New Artist Of The Year                                                                   9\n",
       "Best Classical Vocal Soloist Performance                                                      7\n",
       "Best Classical Vocal Performance                                                              4\n",
       "Best Small Ensemble Performance (With Or Without Conductor)                                   4\n",
       "Best Classical Performance - Instrumental Soloist Or Soloists (With Or Without Orchestra)     4\n",
       "Best Producer Of The Year                                                                     3\n",
       "Most Promising New Classical Recording Artist                                                 3\n",
       "Best Classical Performance - Vocal Soloist (With Or Without Orchestra)                        2\n",
       "Producer Of The Year (Non Classical)                                                          1\n",
       "Best New Classical Artist                                                                     1\n",
       "Best Classical Vocal Soloist                                                                  1\n",
       "Producer Of The Year, (Non Classical)                                                         1\n",
       "Best Performance - Instrumental Soloist Or Soloists (With Or Without Orchestra)               1\n",
       "Best Classical Performance - Vocal Soloist                                                    1\n",
       "Best New Artist Of 1963                                                                       1\n",
       "Best New Artist Of 1964                                                                       1\n",
       "Best New Artist Of 1962                                                                       1\n",
       "Best New Artist Of 1961                                                                       1\n",
       "Best New Artist Of 1960                                                                       1\n",
       "Best New Artist Of 1959                                                                       1\n",
       "Name: count, dtype: int64"
      ]
     },
     "execution_count": 19,
     "metadata": {},
     "output_type": "execute_result"
    }
   ],
   "source": [
    "both_null_values[\"category\"].value_counts()"
   ]
  },
  {
   "cell_type": "markdown",
   "metadata": {},
   "source": [
    "Let's review some categories where we are not so sure that the data there will be useful to us."
   ]
  },
  {
   "cell_type": "code",
   "execution_count": 20,
   "metadata": {},
   "outputs": [
    {
     "data": {
      "text/html": [
       "<div>\n",
       "<style scoped>\n",
       "    .dataframe tbody tr th:only-of-type {\n",
       "        vertical-align: middle;\n",
       "    }\n",
       "\n",
       "    .dataframe tbody tr th {\n",
       "        vertical-align: top;\n",
       "    }\n",
       "\n",
       "    .dataframe thead th {\n",
       "        text-align: right;\n",
       "    }\n",
       "</style>\n",
       "<table border=\"1\" class=\"dataframe\">\n",
       "  <thead>\n",
       "    <tr style=\"text-align: right;\">\n",
       "      <th></th>\n",
       "      <th>year</th>\n",
       "      <th>title</th>\n",
       "      <th>category</th>\n",
       "      <th>nominee</th>\n",
       "      <th>artist</th>\n",
       "      <th>workers</th>\n",
       "      <th>is_nominated</th>\n",
       "    </tr>\n",
       "  </thead>\n",
       "  <tbody>\n",
       "    <tr>\n",
       "      <th>2382</th>\n",
       "      <td>1999</td>\n",
       "      <td>42nd Annual GRAMMY Awards  (1999)</td>\n",
       "      <td>Best Small Ensemble Performance (With Or Witho...</td>\n",
       "      <td>Colors Of Love - Works Of Thomas, Stucky, Tave...</td>\n",
       "      <td>None</td>\n",
       "      <td>None</td>\n",
       "      <td>True</td>\n",
       "    </tr>\n",
       "    <tr>\n",
       "      <th>2475</th>\n",
       "      <td>1998</td>\n",
       "      <td>41st Annual GRAMMY Awards  (1998)</td>\n",
       "      <td>Best Small Ensemble Performance (With Or Witho...</td>\n",
       "      <td>Reich: Music For 18 Musicians</td>\n",
       "      <td>None</td>\n",
       "      <td>None</td>\n",
       "      <td>True</td>\n",
       "    </tr>\n",
       "    <tr>\n",
       "      <th>2570</th>\n",
       "      <td>1997</td>\n",
       "      <td>40th Annual GRAMMY Awards  (1997)</td>\n",
       "      <td>Best Small Ensemble Performance (With Or Witho...</td>\n",
       "      <td>Hindemith: Kammermusik No. 1 With Finale 1921,...</td>\n",
       "      <td>None</td>\n",
       "      <td>None</td>\n",
       "      <td>True</td>\n",
       "    </tr>\n",
       "    <tr>\n",
       "      <th>2571</th>\n",
       "      <td>1997</td>\n",
       "      <td>40th Annual GRAMMY Awards  (1997)</td>\n",
       "      <td>Best Classical Vocal Performance</td>\n",
       "      <td>An Italian Songbook - Works Of Bellini, Donize...</td>\n",
       "      <td>None</td>\n",
       "      <td>None</td>\n",
       "      <td>True</td>\n",
       "    </tr>\n",
       "    <tr>\n",
       "      <th>2658</th>\n",
       "      <td>1996</td>\n",
       "      <td>39th Annual GRAMMY Awards  (1996)</td>\n",
       "      <td>Best Small Ensemble Performance (With Or Witho...</td>\n",
       "      <td>Boulez: ...Explosante-Fixe...</td>\n",
       "      <td>None</td>\n",
       "      <td>None</td>\n",
       "      <td>True</td>\n",
       "    </tr>\n",
       "  </tbody>\n",
       "</table>\n",
       "</div>"
      ],
      "text/plain": [
       "      year                              title  \\\n",
       "2382  1999  42nd Annual GRAMMY Awards  (1999)   \n",
       "2475  1998  41st Annual GRAMMY Awards  (1998)   \n",
       "2570  1997  40th Annual GRAMMY Awards  (1997)   \n",
       "2571  1997  40th Annual GRAMMY Awards  (1997)   \n",
       "2658  1996  39th Annual GRAMMY Awards  (1996)   \n",
       "\n",
       "                                               category  \\\n",
       "2382  Best Small Ensemble Performance (With Or Witho...   \n",
       "2475  Best Small Ensemble Performance (With Or Witho...   \n",
       "2570  Best Small Ensemble Performance (With Or Witho...   \n",
       "2571                   Best Classical Vocal Performance   \n",
       "2658  Best Small Ensemble Performance (With Or Witho...   \n",
       "\n",
       "                                                nominee artist workers  \\\n",
       "2382  Colors Of Love - Works Of Thomas, Stucky, Tave...   None    None   \n",
       "2475                      Reich: Music For 18 Musicians   None    None   \n",
       "2570  Hindemith: Kammermusik No. 1 With Finale 1921,...   None    None   \n",
       "2571  An Italian Songbook - Works Of Bellini, Donize...   None    None   \n",
       "2658                      Boulez: ...Explosante-Fixe...   None    None   \n",
       "\n",
       "      is_nominated  \n",
       "2382          True  \n",
       "2475          True  \n",
       "2570          True  \n",
       "2571          True  \n",
       "2658          True  "
      ]
     },
     "execution_count": 20,
     "metadata": {},
     "output_type": "execute_result"
    }
   ],
   "source": [
    "categories = [\n",
    "    \"Best Classical Vocal Soloist Performance\",\n",
    "    \"Best Classical Vocal Performance\",\n",
    "    \"Best Small Ensemble Performance (With Or Without Conductor)\",\n",
    "    \"Best Classical Performance - Instrumental Soloist Or Soloists (With Or Without Orchestra)\",\n",
    "    \"Most Promising New Classical Recording Artist\",\n",
    "    \"Best Classical Performance - Vocal Soloist (With Or Without Orchestra)\",\n",
    "    \"Best New Classical Artist\",\n",
    "    \"Best Classical Vocal Soloist\",\n",
    "    \"Best Performance - Instrumental Soloist Or Soloists (With Or Without Orchestra)\",\n",
    "    \"Best Classical Performance - Vocal Soloist\"\n",
    "]\n",
    "\n",
    "both_filtered = both_null_values[both_null_values[\"category\"].isin(categories)]\n",
    "both_filtered.head()"
   ]
  },
  {
   "cell_type": "markdown",
   "metadata": {},
   "source": [
    "Reviewing the previous output, we confirm what we suspected: most of the *nominee* values in these categories are not useful to extract values in *artist*. We are going to remove them."
   ]
  },
  {
   "cell_type": "code",
   "execution_count": 21,
   "metadata": {},
   "outputs": [],
   "source": [
    "both_null_values = both_null_values.drop(both_filtered.index, axis=0)\n",
    "df = df.drop(both_filtered.index, axis=0)"
   ]
  },
  {
   "cell_type": "code",
   "execution_count": 22,
   "metadata": {},
   "outputs": [
    {
     "data": {
      "text/plain": [
       "(4776, 7)"
      ]
     },
     "execution_count": 22,
     "metadata": {},
     "output_type": "execute_result"
    }
   ],
   "source": [
    "df.shape"
   ]
  },
  {
   "cell_type": "markdown",
   "metadata": {},
   "source": [
    "Now we can pass the values from *nominee* to *artist* for the previous values."
   ]
  },
  {
   "cell_type": "code",
   "execution_count": 23,
   "metadata": {},
   "outputs": [],
   "source": [
    "df.loc[both_null_values.index, \"artist\"] = both_null_values[\"nominee\"]"
   ]
  },
  {
   "cell_type": "code",
   "execution_count": 24,
   "metadata": {},
   "outputs": [
    {
     "data": {
      "text/html": [
       "<div>\n",
       "<style scoped>\n",
       "    .dataframe tbody tr th:only-of-type {\n",
       "        vertical-align: middle;\n",
       "    }\n",
       "\n",
       "    .dataframe tbody tr th {\n",
       "        vertical-align: top;\n",
       "    }\n",
       "\n",
       "    .dataframe thead th {\n",
       "        text-align: right;\n",
       "    }\n",
       "</style>\n",
       "<table border=\"1\" class=\"dataframe\">\n",
       "  <thead>\n",
       "    <tr style=\"text-align: right;\">\n",
       "      <th></th>\n",
       "      <th>year</th>\n",
       "      <th>title</th>\n",
       "      <th>category</th>\n",
       "      <th>nominee</th>\n",
       "      <th>artist</th>\n",
       "      <th>workers</th>\n",
       "      <th>is_nominated</th>\n",
       "    </tr>\n",
       "  </thead>\n",
       "  <tbody>\n",
       "  </tbody>\n",
       "</table>\n",
       "</div>"
      ],
      "text/plain": [
       "Empty DataFrame\n",
       "Columns: [year, title, category, nominee, artist, workers, is_nominated]\n",
       "Index: []"
      ]
     },
     "execution_count": 24,
     "metadata": {},
     "output_type": "execute_result"
    }
   ],
   "source": [
    "df.loc[df[\"artist\"].isna() & df[\"workers\"].isna()]"
   ]
  },
  {
   "cell_type": "markdown",
   "metadata": {},
   "source": [
    "##### **Artist - The artist is in workers**\n",
    "\n",
    "There are certain rows in the dataset that have null values in the *artist* column, however, these artists are enclosed in parentheses in workers, as we see in the following outputs:"
   ]
  },
  {
   "cell_type": "code",
   "execution_count": 25,
   "metadata": {},
   "outputs": [
    {
     "data": {
      "text/plain": [
       "(1654, 7)"
      ]
     },
     "execution_count": 25,
     "metadata": {},
     "output_type": "execute_result"
    }
   ],
   "source": [
    "artist_null = df.loc[df[\"artist\"].isna()]\n",
    "artist_null.shape"
   ]
  },
  {
   "cell_type": "code",
   "execution_count": 26,
   "metadata": {},
   "outputs": [
    {
     "data": {
      "text/html": [
       "<div>\n",
       "<style scoped>\n",
       "    .dataframe tbody tr th:only-of-type {\n",
       "        vertical-align: middle;\n",
       "    }\n",
       "\n",
       "    .dataframe tbody tr th {\n",
       "        vertical-align: top;\n",
       "    }\n",
       "\n",
       "    .dataframe thead th {\n",
       "        text-align: right;\n",
       "    }\n",
       "</style>\n",
       "<table border=\"1\" class=\"dataframe\">\n",
       "  <thead>\n",
       "    <tr style=\"text-align: right;\">\n",
       "      <th></th>\n",
       "      <th>year</th>\n",
       "      <th>title</th>\n",
       "      <th>category</th>\n",
       "      <th>nominee</th>\n",
       "      <th>artist</th>\n",
       "      <th>workers</th>\n",
       "      <th>is_nominated</th>\n",
       "    </tr>\n",
       "  </thead>\n",
       "  <tbody>\n",
       "    <tr>\n",
       "      <th>16</th>\n",
       "      <td>2019</td>\n",
       "      <td>62nd Annual GRAMMY Awards  (2019)</td>\n",
       "      <td>Song Of The Year</td>\n",
       "      <td>Bad Guy</td>\n",
       "      <td>None</td>\n",
       "      <td>Billie Eilish O'Connell &amp; Finneas O'Connell, s...</td>\n",
       "      <td>True</td>\n",
       "    </tr>\n",
       "    <tr>\n",
       "      <th>17</th>\n",
       "      <td>2019</td>\n",
       "      <td>62nd Annual GRAMMY Awards  (2019)</td>\n",
       "      <td>Song Of The Year</td>\n",
       "      <td>Always Remember Us This Way</td>\n",
       "      <td>None</td>\n",
       "      <td>Natalie Hemby, Lady Gaga, Hillary Lindsey &amp; Lo...</td>\n",
       "      <td>True</td>\n",
       "    </tr>\n",
       "    <tr>\n",
       "      <th>18</th>\n",
       "      <td>2019</td>\n",
       "      <td>62nd Annual GRAMMY Awards  (2019)</td>\n",
       "      <td>Song Of The Year</td>\n",
       "      <td>Bring My Flowers Now</td>\n",
       "      <td>None</td>\n",
       "      <td>Brandi Carlile, Phil Hanseroth, Tim Hanseroth ...</td>\n",
       "      <td>True</td>\n",
       "    </tr>\n",
       "    <tr>\n",
       "      <th>19</th>\n",
       "      <td>2019</td>\n",
       "      <td>62nd Annual GRAMMY Awards  (2019)</td>\n",
       "      <td>Song Of The Year</td>\n",
       "      <td>Hard Place</td>\n",
       "      <td>None</td>\n",
       "      <td>Ruby Amanfu, Sam Ashworth, D. Arcelious Harris...</td>\n",
       "      <td>True</td>\n",
       "    </tr>\n",
       "    <tr>\n",
       "      <th>20</th>\n",
       "      <td>2019</td>\n",
       "      <td>62nd Annual GRAMMY Awards  (2019)</td>\n",
       "      <td>Song Of The Year</td>\n",
       "      <td>Lover</td>\n",
       "      <td>None</td>\n",
       "      <td>Taylor Swift, songwriter (Taylor Swift)</td>\n",
       "      <td>True</td>\n",
       "    </tr>\n",
       "  </tbody>\n",
       "</table>\n",
       "</div>"
      ],
      "text/plain": [
       "    year                              title          category  \\\n",
       "16  2019  62nd Annual GRAMMY Awards  (2019)  Song Of The Year   \n",
       "17  2019  62nd Annual GRAMMY Awards  (2019)  Song Of The Year   \n",
       "18  2019  62nd Annual GRAMMY Awards  (2019)  Song Of The Year   \n",
       "19  2019  62nd Annual GRAMMY Awards  (2019)  Song Of The Year   \n",
       "20  2019  62nd Annual GRAMMY Awards  (2019)  Song Of The Year   \n",
       "\n",
       "                        nominee artist  \\\n",
       "16                      Bad Guy   None   \n",
       "17  Always Remember Us This Way   None   \n",
       "18         Bring My Flowers Now   None   \n",
       "19                   Hard Place   None   \n",
       "20                        Lover   None   \n",
       "\n",
       "                                              workers  is_nominated  \n",
       "16  Billie Eilish O'Connell & Finneas O'Connell, s...          True  \n",
       "17  Natalie Hemby, Lady Gaga, Hillary Lindsey & Lo...          True  \n",
       "18  Brandi Carlile, Phil Hanseroth, Tim Hanseroth ...          True  \n",
       "19  Ruby Amanfu, Sam Ashworth, D. Arcelious Harris...          True  \n",
       "20            Taylor Swift, songwriter (Taylor Swift)          True  "
      ]
     },
     "execution_count": 26,
     "metadata": {},
     "output_type": "execute_result"
    }
   ],
   "source": [
    "artist_null_sample = artist_null.head()\n",
    "artist_null_sample"
   ]
  },
  {
   "cell_type": "code",
   "execution_count": 27,
   "metadata": {},
   "outputs": [
    {
     "name": "stdout",
     "output_type": "stream",
     "text": [
      "Billie Eilish O'Connell & Finneas O'Connell, songwriters (Billie Eilish)\n",
      "Natalie Hemby, Lady Gaga, Hillary Lindsey & Lori McKenna, songwriters (Lady Gaga)\n",
      "Brandi Carlile, Phil Hanseroth, Tim Hanseroth & Tanya Tucker, songwriters (Tanya Tucker)\n",
      "Ruby Amanfu, Sam Ashworth, D. Arcelious Harris, H.E.R. & Rodney Jerkins, songwriters (H.E.R.)\n",
      "Taylor Swift, songwriter (Taylor Swift)\n"
     ]
    }
   ],
   "source": [
    "for i in artist_null_sample.index:\n",
    "    print(artist_null_sample.loc[i, \"workers\"])"
   ]
  },
  {
   "cell_type": "markdown",
   "metadata": {},
   "source": [
    "The following code ensures that the missing values in *artist* are filled with useful information from the *workers* column, maintaining data consistency.\n",
    "\n",
    "**The logical flow of this code ensures that:**\n",
    "- The values in the *artist* column remain unchanged if they are not null.\n",
    "- Null values in *artist* are filled with the information enclosed in parentheses from *workers*, if available.\n",
    "\n",
    "In the end, the code returns a DataFrame with a more complete and accurate *artist* column, enriched by the information from the *workers* column."
   ]
  },
  {
   "cell_type": "code",
   "execution_count": 28,
   "metadata": {},
   "outputs": [],
   "source": [
    "def extract_artist(workers):\n",
    "    match = re.search(r'\\((.*?)\\)', workers)\n",
    "    if match:\n",
    "        return match.group(1)\n",
    "    return None\n",
    "\n",
    "df[\"artist\"] = (df.apply\n",
    "    (lambda row:\n",
    "        extract_artist(row[\"workers\"])\n",
    "        if pd.isna(row[\"artist\"])\n",
    "            else row[\"artist\"], axis=1))"
   ]
  },
  {
   "cell_type": "code",
   "execution_count": 29,
   "metadata": {},
   "outputs": [
    {
     "data": {
      "text/html": [
       "<div>\n",
       "<style scoped>\n",
       "    .dataframe tbody tr th:only-of-type {\n",
       "        vertical-align: middle;\n",
       "    }\n",
       "\n",
       "    .dataframe tbody tr th {\n",
       "        vertical-align: top;\n",
       "    }\n",
       "\n",
       "    .dataframe thead th {\n",
       "        text-align: right;\n",
       "    }\n",
       "</style>\n",
       "<table border=\"1\" class=\"dataframe\">\n",
       "  <thead>\n",
       "    <tr style=\"text-align: right;\">\n",
       "      <th></th>\n",
       "      <th>year</th>\n",
       "      <th>title</th>\n",
       "      <th>category</th>\n",
       "      <th>nominee</th>\n",
       "      <th>artist</th>\n",
       "      <th>workers</th>\n",
       "      <th>is_nominated</th>\n",
       "    </tr>\n",
       "  </thead>\n",
       "  <tbody>\n",
       "    <tr>\n",
       "      <th>16</th>\n",
       "      <td>2019</td>\n",
       "      <td>62nd Annual GRAMMY Awards  (2019)</td>\n",
       "      <td>Song Of The Year</td>\n",
       "      <td>Bad Guy</td>\n",
       "      <td>Billie Eilish</td>\n",
       "      <td>Billie Eilish O'Connell &amp; Finneas O'Connell, s...</td>\n",
       "      <td>True</td>\n",
       "    </tr>\n",
       "    <tr>\n",
       "      <th>17</th>\n",
       "      <td>2019</td>\n",
       "      <td>62nd Annual GRAMMY Awards  (2019)</td>\n",
       "      <td>Song Of The Year</td>\n",
       "      <td>Always Remember Us This Way</td>\n",
       "      <td>Lady Gaga</td>\n",
       "      <td>Natalie Hemby, Lady Gaga, Hillary Lindsey &amp; Lo...</td>\n",
       "      <td>True</td>\n",
       "    </tr>\n",
       "    <tr>\n",
       "      <th>18</th>\n",
       "      <td>2019</td>\n",
       "      <td>62nd Annual GRAMMY Awards  (2019)</td>\n",
       "      <td>Song Of The Year</td>\n",
       "      <td>Bring My Flowers Now</td>\n",
       "      <td>Tanya Tucker</td>\n",
       "      <td>Brandi Carlile, Phil Hanseroth, Tim Hanseroth ...</td>\n",
       "      <td>True</td>\n",
       "    </tr>\n",
       "    <tr>\n",
       "      <th>19</th>\n",
       "      <td>2019</td>\n",
       "      <td>62nd Annual GRAMMY Awards  (2019)</td>\n",
       "      <td>Song Of The Year</td>\n",
       "      <td>Hard Place</td>\n",
       "      <td>H.E.R.</td>\n",
       "      <td>Ruby Amanfu, Sam Ashworth, D. Arcelious Harris...</td>\n",
       "      <td>True</td>\n",
       "    </tr>\n",
       "  </tbody>\n",
       "</table>\n",
       "</div>"
      ],
      "text/plain": [
       "    year                              title          category  \\\n",
       "16  2019  62nd Annual GRAMMY Awards  (2019)  Song Of The Year   \n",
       "17  2019  62nd Annual GRAMMY Awards  (2019)  Song Of The Year   \n",
       "18  2019  62nd Annual GRAMMY Awards  (2019)  Song Of The Year   \n",
       "19  2019  62nd Annual GRAMMY Awards  (2019)  Song Of The Year   \n",
       "\n",
       "                        nominee         artist  \\\n",
       "16                      Bad Guy  Billie Eilish   \n",
       "17  Always Remember Us This Way      Lady Gaga   \n",
       "18         Bring My Flowers Now   Tanya Tucker   \n",
       "19                   Hard Place         H.E.R.   \n",
       "\n",
       "                                              workers  is_nominated  \n",
       "16  Billie Eilish O'Connell & Finneas O'Connell, s...          True  \n",
       "17  Natalie Hemby, Lady Gaga, Hillary Lindsey & Lo...          True  \n",
       "18  Brandi Carlile, Phil Hanseroth, Tim Hanseroth ...          True  \n",
       "19  Ruby Amanfu, Sam Ashworth, D. Arcelious Harris...          True  "
      ]
     },
     "execution_count": 29,
     "metadata": {},
     "output_type": "execute_result"
    }
   ],
   "source": [
    "df.iloc[16:20]"
   ]
  },
  {
   "cell_type": "markdown",
   "metadata": {},
   "source": [
    "Let's confirm the number of null values we now have in our dataframe. We can see that although the number has been reduced considerably, there is still a lot of null data."
   ]
  },
  {
   "cell_type": "code",
   "execution_count": 30,
   "metadata": {},
   "outputs": [
    {
     "data": {
      "text/plain": [
       "year               0\n",
       "title              0\n",
       "category           0\n",
       "nominee            0\n",
       "artist           288\n",
       "workers         2156\n",
       "is_nominated       0\n",
       "dtype: int64"
      ]
     },
     "execution_count": 30,
     "metadata": {},
     "output_type": "execute_result"
    }
   ],
   "source": [
    "df.isna().sum()"
   ]
  },
  {
   "cell_type": "markdown",
   "metadata": {},
   "source": [
    "Hay varios artistas que siguen apareciendo en *workers*. Sin embargo, en este caso observamos nuevos patrones en esta columna para poder detectar a los artistas:\n",
    "\n",
    "* El nombre se encuentra solo o acompañado de un `Featuring` que también va a ser incluido.\n",
    "\n",
    "* El nombre se encuentra separado con un punto y coma (`;`) y se encuentra solo o acompañado de un `Featuring` que también va a ser incluido.\n",
    "\n",
    "* El artista se encuentra acompañado por una coma (`,`) y un rol (`artist` o `artists`, `composer`, `conductor`, `choir director`, `chorus master`, `ensembles`, `soloist` o `soloists`, `conductor/soloist`)."
   ]
  },
  {
   "cell_type": "code",
   "execution_count": 31,
   "metadata": {},
   "outputs": [
    {
     "data": {
      "text/html": [
       "<div>\n",
       "<style scoped>\n",
       "    .dataframe tbody tr th:only-of-type {\n",
       "        vertical-align: middle;\n",
       "    }\n",
       "\n",
       "    .dataframe tbody tr th {\n",
       "        vertical-align: top;\n",
       "    }\n",
       "\n",
       "    .dataframe thead th {\n",
       "        text-align: right;\n",
       "    }\n",
       "</style>\n",
       "<table border=\"1\" class=\"dataframe\">\n",
       "  <thead>\n",
       "    <tr style=\"text-align: right;\">\n",
       "      <th></th>\n",
       "      <th>year</th>\n",
       "      <th>title</th>\n",
       "      <th>category</th>\n",
       "      <th>nominee</th>\n",
       "      <th>artist</th>\n",
       "      <th>workers</th>\n",
       "      <th>is_nominated</th>\n",
       "    </tr>\n",
       "  </thead>\n",
       "  <tbody>\n",
       "    <tr>\n",
       "      <th>163</th>\n",
       "      <td>2015</td>\n",
       "      <td>58th Annual GRAMMY Awards  (2015)</td>\n",
       "      <td>Best Contemporary Classical Composition</td>\n",
       "      <td>Paulus: Prayers &amp; Remembrances</td>\n",
       "      <td>None</td>\n",
       "      <td>Stephen Paulus, composer</td>\n",
       "      <td>True</td>\n",
       "    </tr>\n",
       "    <tr>\n",
       "      <th>164</th>\n",
       "      <td>2019</td>\n",
       "      <td>62nd Annual GRAMMY Awards  (2019)</td>\n",
       "      <td>Best Improvised Jazz Solo</td>\n",
       "      <td>Sozinho</td>\n",
       "      <td>None</td>\n",
       "      <td>Randy Brecker, soloist</td>\n",
       "      <td>True</td>\n",
       "    </tr>\n",
       "    <tr>\n",
       "      <th>165</th>\n",
       "      <td>2019</td>\n",
       "      <td>62nd Annual GRAMMY Awards  (2019)</td>\n",
       "      <td>Best Improvised Jazz Solo</td>\n",
       "      <td>Elsewhere</td>\n",
       "      <td>None</td>\n",
       "      <td>Melissa Aldana, soloist</td>\n",
       "      <td>True</td>\n",
       "    </tr>\n",
       "    <tr>\n",
       "      <th>166</th>\n",
       "      <td>2019</td>\n",
       "      <td>62nd Annual GRAMMY Awards  (2019)</td>\n",
       "      <td>Best Improvised Jazz Solo</td>\n",
       "      <td>Tomorrow Is The Question</td>\n",
       "      <td>None</td>\n",
       "      <td>Julian Lage, soloist</td>\n",
       "      <td>True</td>\n",
       "    </tr>\n",
       "    <tr>\n",
       "      <th>167</th>\n",
       "      <td>2019</td>\n",
       "      <td>62nd Annual GRAMMY Awards  (2019)</td>\n",
       "      <td>Best Improvised Jazz Solo</td>\n",
       "      <td>The Windup</td>\n",
       "      <td>None</td>\n",
       "      <td>Branford Marsalis, soloist</td>\n",
       "      <td>True</td>\n",
       "    </tr>\n",
       "  </tbody>\n",
       "</table>\n",
       "</div>"
      ],
      "text/plain": [
       "     year                              title  \\\n",
       "163  2015  58th Annual GRAMMY Awards  (2015)   \n",
       "164  2019  62nd Annual GRAMMY Awards  (2019)   \n",
       "165  2019  62nd Annual GRAMMY Awards  (2019)   \n",
       "166  2019  62nd Annual GRAMMY Awards  (2019)   \n",
       "167  2019  62nd Annual GRAMMY Awards  (2019)   \n",
       "\n",
       "                                    category                         nominee  \\\n",
       "163  Best Contemporary Classical Composition  Paulus: Prayers & Remembrances   \n",
       "164                Best Improvised Jazz Solo                         Sozinho   \n",
       "165                Best Improvised Jazz Solo                       Elsewhere   \n",
       "166                Best Improvised Jazz Solo        Tomorrow Is The Question   \n",
       "167                Best Improvised Jazz Solo                      The Windup   \n",
       "\n",
       "    artist                     workers  is_nominated  \n",
       "163   None    Stephen Paulus, composer          True  \n",
       "164   None      Randy Brecker, soloist          True  \n",
       "165   None     Melissa Aldana, soloist          True  \n",
       "166   None        Julian Lage, soloist          True  \n",
       "167   None  Branford Marsalis, soloist          True  "
      ]
     },
     "execution_count": 31,
     "metadata": {},
     "output_type": "execute_result"
    }
   ],
   "source": [
    "artist_null = df[df[\"artist\"].isna()]\n",
    "artist_null.head()"
   ]
  },
  {
   "cell_type": "markdown",
   "metadata": {},
   "source": [
    "Let's confirm the roles that appear."
   ]
  },
  {
   "cell_type": "code",
   "execution_count": 32,
   "metadata": {},
   "outputs": [],
   "source": [
    "artist_index = artist_null.index"
   ]
  },
  {
   "cell_type": "code",
   "execution_count": 33,
   "metadata": {},
   "outputs": [
    {
     "data": {
      "text/plain": [
       "[('artist', 80),\n",
       " ('producer', 73),\n",
       " ('soloist', 63),\n",
       " ('composer', 45),\n",
       " ('artists', 34),\n",
       " ('conductor', 27),\n",
       " ('engineer', 19),\n",
       " ('songwriters', 13),\n",
       " ('engineer/mixer', 10),\n",
       " ('producers', 9),\n",
       " ('Andreas Neubronner', 6),\n",
       " ('Tim Handley', 5),\n",
       " ('ensembles', 5),\n",
       " ('James Mallinson', 5),\n",
       " ('Thomas Frost', 4),\n",
       " ('Kirk Franklin', 3),\n",
       " ('songwriter', 3),\n",
       " ('soloists', 3),\n",
       " ('Karl-August Naegler', 3),\n",
       " ('Jonathan Allen', 2),\n",
       " ('John Newton', 2),\n",
       " ('engineers/mixers', 2),\n",
       " ('Christopher Alder', 2),\n",
       " ('Judith Sherman', 2),\n",
       " ('Adam Abeshouse', 2),\n",
       " ('Michelle DeYoung', 2),\n",
       " ('Hans Weber', 2),\n",
       " ('Robert Woods', 2),\n",
       " ('Lynn Harrell & Itzhak Perlman', 2),\n",
       " ('Artur Rubinstein & Henryk Szeryng', 2),\n",
       " ('David Harvey', 2),\n",
       " ('Thomas Z. Shepard', 2),\n",
       " ('Gregor Piatigorsky & William Primrose', 2),\n",
       " ('Bryan Fowler', 1),\n",
       " ('Gloria Gaynor & Chris Stevens', 1),\n",
       " ('Tony Brown', 1),\n",
       " ('Brandon Lake', 1),\n",
       " ('Tasha Cobbs Leonard & Nate Moore', 1),\n",
       " ('Josh Kerr', 1),\n",
       " ('Jordan Reynolds', 1),\n",
       " ('Joel Smallbone', 1),\n",
       " ('Luke Smallbone & Tedd Tjornhom', 1),\n",
       " ('Mark Hall', 1),\n",
       " ('Bernie Herms & Matthew West', 1),\n",
       " ('Danny Gokey', 1),\n",
       " ('Ethan Hulse & Colby Wedgeworth', 1),\n",
       " ('Ethan Hulse', 1),\n",
       " ('Andrew Ripp', 1),\n",
       " ('Jonathan Smith & Zach Williams', 1),\n",
       " ('Silas Brown & Harold Meltzer', 1),\n",
       " ('Leif Ove Andsnes', 1),\n",
       " ('accompanist', 1),\n",
       " ('Marina A. Ledin & Victor Ledin', 1),\n",
       " ('Elaine Martone', 1),\n",
       " ('Laura Heikinheimo', 1),\n",
       " ('Kirk Franklin & Victoria Kelly', 1),\n",
       " ('Lauren Daigle', 1),\n",
       " ('Jason Ingram & Paul Mabury', 1),\n",
       " ('Ludwig Göransson', 1),\n",
       " ('Chris Fogel', 1),\n",
       " ('Scott Fraser', 1),\n",
       " ('Jeannette Sorrell', 1),\n",
       " (\"Apollo's Fire\", 1),\n",
       " ('Erica Brenner', 1),\n",
       " ('Ian Dobie', 1),\n",
       " ('Ian Dobie & Daniel Shores', 1),\n",
       " ('mixers', 1),\n",
       " ('Dwan Hill & Alvin Love III', 1),\n",
       " ('Ben Fielding & Brooke Ligertwood', 1),\n",
       " ('conductor/soloist', 1),\n",
       " ('The Saint Paul Chamber Orchestra', 1),\n",
       " ('Blanton Alspaugh', 1),\n",
       " ('Mark Donahue', 1),\n",
       " ('Sid McLauchlan', 1),\n",
       " ('Marcus Herzog', 1),\n",
       " ('Gary Call', 1),\n",
       " ('Bernie Herms', 1),\n",
       " ('Hillary Scott & Emily Weisband', 1),\n",
       " ('Everett Porter', 1),\n",
       " ('John Fraser', 1),\n",
       " ('Philip Siney', 1),\n",
       " ('Jonathan Low', 1),\n",
       " ('Stephen Johns', 1),\n",
       " ('Aaron W. Lindsey & Smokie Norful', 1),\n",
       " ('Torrance Esmond', 1),\n",
       " ('Ran Jackson', 1),\n",
       " ('Ricky Jackson', 1),\n",
       " ('Kenneth Chris Mackey', 1),\n",
       " ('Lecrae Moore', 1),\n",
       " ('Joseph Prielozny', 1),\n",
       " ('Joel Smallbone & Luke Smallbone', 1),\n",
       " ('Andreas K. Meyer & Julian Schwenker', 1),\n",
       " ('Alan Bise', 1),\n",
       " ('Bruce Egre', 1),\n",
       " ('Jean-Pierre Loisil', 1),\n",
       " ('Thomas Dappelo', 1),\n",
       " ('Manfred Eicher', 1),\n",
       " ('Peter Laenger', 1),\n",
       " ('composers', 1),\n",
       " ('chorus master', 1),\n",
       " ('Riccardo Muti', 1),\n",
       " ('Isabelle Demers & Daniel Sullivan', 1),\n",
       " ('Stephen Roessner', 1),\n",
       " ('Hesperion XXI & La Capella Reial de Catalunya', 1),\n",
       " ('David Frost', 1),\n",
       " ('Tom Lazarus & Tim Martyn', 1),\n",
       " ('Anthony Dean Griffey', 1),\n",
       " ('Patti LuPone & Audra McDonald', 1),\n",
       " ('Fred Vogler', 1),\n",
       " ('Charles Bruffy', 1),\n",
       " ('Phoenix Chorale', 1),\n",
       " ('Yuri Bashmet', 1),\n",
       " ('Moscow Soloists', 1),\n",
       " ('Michael Brammann', 1),\n",
       " ('Klaus Hiemann & Oliver Rogalla Von Heyden', 1),\n",
       " ('engineers', 1),\n",
       " ('Jay David Saks', 1),\n",
       " ('Tony Faulkner', 1),\n",
       " ('John Adams & Lawrence L. Rock', 1),\n",
       " ('Rosalind Ilett', 1),\n",
       " ('Thomas Knab', 1),\n",
       " ('Rainer Maillard', 1),\n",
       " ('Jeff Von Der Schmidt', 1),\n",
       " ('Matthew Snyder', 1),\n",
       " ('Grace Row', 1),\n",
       " ('Charles Harbutt', 1),\n",
       " ('Southwest Chamber Music', 1),\n",
       " ('Norman Mackenzie', 1),\n",
       " ('Thomas Moore', 1),\n",
       " ('Joseph Jennings', 1),\n",
       " ('Preston Smith', 1),\n",
       " ('Ben Heppner', 1),\n",
       " ('Petra Lang', 1),\n",
       " ('Peter Mattei', 1),\n",
       " ('Stephen Milling', 1),\n",
       " ('Sara Mingardo & Kenneth Tarver', 1),\n",
       " ('Arne Akselberg & Truls Mork', 1),\n",
       " ('Arne Akselberg', 1),\n",
       " ('Philipp Nedel', 1),\n",
       " ('Tobias Lehmann', 1),\n",
       " ('Jens Schünemann', 1),\n",
       " ('Wolf-Dieter Karwatky', 1),\n",
       " ('Steven Epstein', 1),\n",
       " ('Joanna Nickrenz', 1),\n",
       " ('Yo-Yo Ma & Richard Stoltzman', 1),\n",
       " ('Dale Clevenger', 1),\n",
       " ('Larry Combs', 1),\n",
       " ('Daniele Damiano & Hansjorg Schellenberger', 1),\n",
       " ('John Aler & John Tomlinson', 1),\n",
       " ('Horst Dittberner', 1),\n",
       " ('June Anderson', 1),\n",
       " ('Nicolai Gedda', 1),\n",
       " ('Adolph Green', 1),\n",
       " ('Jerry Hadley', 1),\n",
       " ('Della Jones', 1),\n",
       " ('Christa Ludwig & Kurt Ollmann', 1),\n",
       " ('Jaime Laredo', 1),\n",
       " ('Yo-Yo Ma & Isaac Stern', 1),\n",
       " ('Evelyn Glennie', 1),\n",
       " ('Murray Perahia & Georg Solti', 1),\n",
       " ('John Strauss', 1),\n",
       " ('Samuel H. Carter', 1),\n",
       " ('Gunther Breest & Michael Horwath', 1),\n",
       " ('Christopher Bishop', 1),\n",
       " ('Dietrich Fischer-Dieskau', 1),\n",
       " ('Vladimir Horowitz', 1),\n",
       " ('Yehudi Menuhin', 1),\n",
       " ('Mstislav Rostropovich', 1),\n",
       " ('Isaac Stern & Lyndon Woodside', 1),\n",
       " ('Artur Rubinstein', 1),\n",
       " ('Max Wilcox', 1),\n",
       " ('Raymond Minshull', 1),\n",
       " ('Thomas Frost & Richard Killough', 1),\n",
       " ('Erik Smith', 1),\n",
       " ('Leonard Rose & Isaac Stern', 1),\n",
       " ('Rachel Elkind', 1),\n",
       " ('Cleveland Brass Ensemble & Philadelphia Brass Ensemble', 1),\n",
       " ('Vittorio Negri & Edward Tarr Brass Ensemble', 1),\n",
       " ('John McClure', 1),\n",
       " ('graphic designer', 1),\n",
       " ('Howard Scott', 1),\n",
       " ('choir director', 1)]"
      ]
     },
     "execution_count": 33,
     "metadata": {},
     "output_type": "execute_result"
    }
   ],
   "source": [
    "roles = (artist_null['workers']\n",
    "         .dropna()\n",
    "         .apply(\n",
    "             lambda x: \n",
    "                 [role.strip() \n",
    "                  for role in re.split(r'[;,]', x)[1:]]))\n",
    "\n",
    "roles_flat = ([role \n",
    "               for sublist in roles \n",
    "                for role in sublist])\n",
    "\n",
    "role_counts = Counter(roles_flat)\n",
    "\n",
    "role_counts.most_common()"
   ]
  },
  {
   "cell_type": "markdown",
   "metadata": {},
   "source": [
    "**Roles de interés**"
   ]
  },
  {
   "cell_type": "code",
   "execution_count": 34,
   "metadata": {},
   "outputs": [],
   "source": [
    "roles_of_interest = [\"artist\",\n",
    "                     \"artists\",\n",
    "                     \"composer\",\n",
    "                     \"conductor\",\n",
    "                     \"conductor/soloist\",\n",
    "                     \"choir director\",\n",
    "                     \"chorus master\",\n",
    "                     \"graphic designer\",\n",
    "                     \"soloist\",\n",
    "                     \"soloists\",\n",
    "                     \"ensembles\"]"
   ]
  },
  {
   "cell_type": "markdown",
   "metadata": {},
   "source": [
    "**Manejar artistas solos (con Featuring)**"
   ]
  },
  {
   "cell_type": "code",
   "execution_count": 35,
   "metadata": {},
   "outputs": [],
   "source": [
    "def move_workers_to_artist(row):\n",
    "    if pd.isna(row['artist']):\n",
    "        workers = row['workers']\n",
    "        if not re.search(r'[;,]', workers):\n",
    "            return workers\n",
    "    return row['artist']\n",
    "\n",
    "df['artist'] = df.apply(move_workers_to_artist, axis=1)"
   ]
  },
  {
   "cell_type": "code",
   "execution_count": 36,
   "metadata": {},
   "outputs": [
    {
     "data": {
      "text/html": [
       "<div>\n",
       "<style scoped>\n",
       "    .dataframe tbody tr th:only-of-type {\n",
       "        vertical-align: middle;\n",
       "    }\n",
       "\n",
       "    .dataframe tbody tr th {\n",
       "        vertical-align: top;\n",
       "    }\n",
       "\n",
       "    .dataframe thead th {\n",
       "        text-align: right;\n",
       "    }\n",
       "</style>\n",
       "<table border=\"1\" class=\"dataframe\">\n",
       "  <thead>\n",
       "    <tr style=\"text-align: right;\">\n",
       "      <th></th>\n",
       "      <th>year</th>\n",
       "      <th>title</th>\n",
       "      <th>category</th>\n",
       "      <th>nominee</th>\n",
       "      <th>artist</th>\n",
       "      <th>workers</th>\n",
       "      <th>is_nominated</th>\n",
       "    </tr>\n",
       "  </thead>\n",
       "  <tbody>\n",
       "    <tr>\n",
       "      <th>192</th>\n",
       "      <td>2019</td>\n",
       "      <td>62nd Annual GRAMMY Awards  (2019)</td>\n",
       "      <td>Best Gospel Performance/Song</td>\n",
       "      <td>See The Light</td>\n",
       "      <td>Travis Greene Featuring Jekalyn Carr</td>\n",
       "      <td>Travis Greene Featuring Jekalyn Carr</td>\n",
       "      <td>True</td>\n",
       "    </tr>\n",
       "    <tr>\n",
       "      <th>193</th>\n",
       "      <td>2019</td>\n",
       "      <td>62nd Annual GRAMMY Awards  (2019)</td>\n",
       "      <td>Best Gospel Performance/Song</td>\n",
       "      <td>Speak The Name</td>\n",
       "      <td>Koryn Hawthorne Featuring Natalie Grant</td>\n",
       "      <td>Koryn Hawthorne Featuring Natalie Grant</td>\n",
       "      <td>True</td>\n",
       "    </tr>\n",
       "    <tr>\n",
       "      <th>402</th>\n",
       "      <td>2019</td>\n",
       "      <td>62nd Annual GRAMMY Awards  (2019)</td>\n",
       "      <td>Best Chamber Music/Small Ensemble Performance</td>\n",
       "      <td>Shaw: Orange</td>\n",
       "      <td>Attacca Quartet</td>\n",
       "      <td>Attacca Quartet</td>\n",
       "      <td>True</td>\n",
       "    </tr>\n",
       "    <tr>\n",
       "      <th>403</th>\n",
       "      <td>2019</td>\n",
       "      <td>62nd Annual GRAMMY Awards  (2019)</td>\n",
       "      <td>Best Chamber Music/Small Ensemble Performance</td>\n",
       "      <td>Cerrone: The Pieces That Fall To Earth</td>\n",
       "      <td>Christopher Rountree &amp; Wild Up</td>\n",
       "      <td>Christopher Rountree &amp; Wild Up</td>\n",
       "      <td>True</td>\n",
       "    </tr>\n",
       "  </tbody>\n",
       "</table>\n",
       "</div>"
      ],
      "text/plain": [
       "     year                              title  \\\n",
       "192  2019  62nd Annual GRAMMY Awards  (2019)   \n",
       "193  2019  62nd Annual GRAMMY Awards  (2019)   \n",
       "402  2019  62nd Annual GRAMMY Awards  (2019)   \n",
       "403  2019  62nd Annual GRAMMY Awards  (2019)   \n",
       "\n",
       "                                          category  \\\n",
       "192                   Best Gospel Performance/Song   \n",
       "193                   Best Gospel Performance/Song   \n",
       "402  Best Chamber Music/Small Ensemble Performance   \n",
       "403  Best Chamber Music/Small Ensemble Performance   \n",
       "\n",
       "                                    nominee  \\\n",
       "192                           See The Light   \n",
       "193                          Speak The Name   \n",
       "402                            Shaw: Orange   \n",
       "403  Cerrone: The Pieces That Fall To Earth   \n",
       "\n",
       "                                      artist  \\\n",
       "192     Travis Greene Featuring Jekalyn Carr   \n",
       "193  Koryn Hawthorne Featuring Natalie Grant   \n",
       "402                          Attacca Quartet   \n",
       "403           Christopher Rountree & Wild Up   \n",
       "\n",
       "                                     workers  is_nominated  \n",
       "192     Travis Greene Featuring Jekalyn Carr          True  \n",
       "193  Koryn Hawthorne Featuring Natalie Grant          True  \n",
       "402                          Attacca Quartet          True  \n",
       "403           Christopher Rountree & Wild Up          True  "
      ]
     },
     "execution_count": 36,
     "metadata": {},
     "output_type": "execute_result"
    }
   ],
   "source": [
    "new_artists = df.loc[artist_index]\n",
    "new_artists.loc[[192, 193, 402, 403]]"
   ]
  },
  {
   "cell_type": "code",
   "execution_count": 37,
   "metadata": {},
   "outputs": [],
   "source": [
    "artist_null = df[df[\"artist\"].isna()]\n",
    "artist_index = artist_null.index"
   ]
  },
  {
   "cell_type": "markdown",
   "metadata": {},
   "source": [
    "**Manejar puntos y comas**"
   ]
  },
  {
   "cell_type": "code",
   "execution_count": 38,
   "metadata": {},
   "outputs": [],
   "source": [
    "def extract_artists_before_semicolon(workers, roles):\n",
    "    parts = workers.split(';')\n",
    "    first_part = parts[0].strip()\n",
    "    if ',' not in first_part and not any(role in first_part for role in roles):\n",
    "        return first_part\n",
    "    return None\n",
    "\n",
    "df[\"artist\"] = df.apply(\n",
    "    lambda row: extract_artists_before_semicolon(row[\"workers\"], roles_of_interest) if pd.isna(row[\"artist\"]) else row[\"artist\"],\n",
    "    axis=1\n",
    ")"
   ]
  },
  {
   "cell_type": "code",
   "execution_count": 39,
   "metadata": {},
   "outputs": [
    {
     "data": {
      "text/html": [
       "<div>\n",
       "<style scoped>\n",
       "    .dataframe tbody tr th:only-of-type {\n",
       "        vertical-align: middle;\n",
       "    }\n",
       "\n",
       "    .dataframe tbody tr th {\n",
       "        vertical-align: top;\n",
       "    }\n",
       "\n",
       "    .dataframe thead th {\n",
       "        text-align: right;\n",
       "    }\n",
       "</style>\n",
       "<table border=\"1\" class=\"dataframe\">\n",
       "  <thead>\n",
       "    <tr style=\"text-align: right;\">\n",
       "      <th></th>\n",
       "      <th>year</th>\n",
       "      <th>title</th>\n",
       "      <th>category</th>\n",
       "      <th>nominee</th>\n",
       "      <th>artist</th>\n",
       "      <th>workers</th>\n",
       "      <th>is_nominated</th>\n",
       "    </tr>\n",
       "  </thead>\n",
       "  <tbody>\n",
       "    <tr>\n",
       "      <th>190</th>\n",
       "      <td>2019</td>\n",
       "      <td>62nd Annual GRAMMY Awards  (2019)</td>\n",
       "      <td>Best Gospel Performance/Song</td>\n",
       "      <td>Love Theory</td>\n",
       "      <td>Kirk Franklin</td>\n",
       "      <td>Kirk Franklin; Kirk Franklin, songwriter</td>\n",
       "      <td>True</td>\n",
       "    </tr>\n",
       "    <tr>\n",
       "      <th>191</th>\n",
       "      <td>2019</td>\n",
       "      <td>62nd Annual GRAMMY Awards  (2019)</td>\n",
       "      <td>Best Gospel Performance/Song</td>\n",
       "      <td>Talkin' 'Bout Jesus</td>\n",
       "      <td>Gloria Gaynor Featuring Yolanda Adams</td>\n",
       "      <td>Gloria Gaynor Featuring Yolanda Adams; Bryan F...</td>\n",
       "      <td>True</td>\n",
       "    </tr>\n",
       "    <tr>\n",
       "      <th>196</th>\n",
       "      <td>2019</td>\n",
       "      <td>62nd Annual GRAMMY Awards  (2019)</td>\n",
       "      <td>Best Contemporary Christian Music Performance/...</td>\n",
       "      <td>Only Jesus</td>\n",
       "      <td>Casting Crowns</td>\n",
       "      <td>Casting Crowns; Mark Hall, Bernie Herms &amp; Matt...</td>\n",
       "      <td>True</td>\n",
       "    </tr>\n",
       "    <tr>\n",
       "      <th>197</th>\n",
       "      <td>2019</td>\n",
       "      <td>62nd Annual GRAMMY Awards  (2019)</td>\n",
       "      <td>Best Contemporary Christian Music Performance/...</td>\n",
       "      <td>Haven't Seen It Yet</td>\n",
       "      <td>Danny Gokey</td>\n",
       "      <td>Danny Gokey; Danny Gokey, Ethan Hulse &amp; Colby ...</td>\n",
       "      <td>True</td>\n",
       "    </tr>\n",
       "  </tbody>\n",
       "</table>\n",
       "</div>"
      ],
      "text/plain": [
       "     year                              title  \\\n",
       "190  2019  62nd Annual GRAMMY Awards  (2019)   \n",
       "191  2019  62nd Annual GRAMMY Awards  (2019)   \n",
       "196  2019  62nd Annual GRAMMY Awards  (2019)   \n",
       "197  2019  62nd Annual GRAMMY Awards  (2019)   \n",
       "\n",
       "                                              category              nominee  \\\n",
       "190                       Best Gospel Performance/Song          Love Theory   \n",
       "191                       Best Gospel Performance/Song  Talkin' 'Bout Jesus   \n",
       "196  Best Contemporary Christian Music Performance/...           Only Jesus   \n",
       "197  Best Contemporary Christian Music Performance/...  Haven't Seen It Yet   \n",
       "\n",
       "                                    artist  \\\n",
       "190                          Kirk Franklin   \n",
       "191  Gloria Gaynor Featuring Yolanda Adams   \n",
       "196                         Casting Crowns   \n",
       "197                            Danny Gokey   \n",
       "\n",
       "                                               workers  is_nominated  \n",
       "190           Kirk Franklin; Kirk Franklin, songwriter          True  \n",
       "191  Gloria Gaynor Featuring Yolanda Adams; Bryan F...          True  \n",
       "196  Casting Crowns; Mark Hall, Bernie Herms & Matt...          True  \n",
       "197  Danny Gokey; Danny Gokey, Ethan Hulse & Colby ...          True  "
      ]
     },
     "execution_count": 39,
     "metadata": {},
     "output_type": "execute_result"
    }
   ],
   "source": [
    "new_artists = df.loc[artist_index]\n",
    "new_artists.loc[[190, 191, 196, 197]]"
   ]
  },
  {
   "cell_type": "code",
   "execution_count": 40,
   "metadata": {},
   "outputs": [],
   "source": [
    "artist_null = df[df[\"artist\"].isna()]\n",
    "artist_index = artist_null.index"
   ]
  },
  {
   "cell_type": "markdown",
   "metadata": {},
   "source": [
    "**Manejar comas**"
   ]
  },
  {
   "cell_type": "code",
   "execution_count": 41,
   "metadata": {},
   "outputs": [],
   "source": [
    "def extract_roles_based_on_interest(workers, roles):\n",
    "    pattern = r'([^;]+)\\s*(?:,\\s*(?:' + '|'.join(roles) + r'))'\n",
    "    matches = re.findall(pattern, workers)\n",
    "    return \", \".join(matches).strip() if matches else None\n",
    "\n",
    "df[\"artist\"] = df.apply(\n",
    "    lambda row: extract_roles_based_on_interest(row[\"workers\"], roles_of_interest) if pd.isna(row[\"artist\"]) else row[\"artist\"],\n",
    "    axis=1\n",
    ")"
   ]
  },
  {
   "cell_type": "code",
   "execution_count": 42,
   "metadata": {},
   "outputs": [
    {
     "data": {
      "text/html": [
       "<div>\n",
       "<style scoped>\n",
       "    .dataframe tbody tr th:only-of-type {\n",
       "        vertical-align: middle;\n",
       "    }\n",
       "\n",
       "    .dataframe tbody tr th {\n",
       "        vertical-align: top;\n",
       "    }\n",
       "\n",
       "    .dataframe thead th {\n",
       "        text-align: right;\n",
       "    }\n",
       "</style>\n",
       "<table border=\"1\" class=\"dataframe\">\n",
       "  <thead>\n",
       "    <tr style=\"text-align: right;\">\n",
       "      <th></th>\n",
       "      <th>year</th>\n",
       "      <th>title</th>\n",
       "      <th>category</th>\n",
       "      <th>nominee</th>\n",
       "      <th>artist</th>\n",
       "      <th>workers</th>\n",
       "      <th>is_nominated</th>\n",
       "    </tr>\n",
       "  </thead>\n",
       "  <tbody>\n",
       "    <tr>\n",
       "      <th>163</th>\n",
       "      <td>2015</td>\n",
       "      <td>58th Annual GRAMMY Awards  (2015)</td>\n",
       "      <td>Best Contemporary Classical Composition</td>\n",
       "      <td>Paulus: Prayers &amp; Remembrances</td>\n",
       "      <td>Stephen Paulus</td>\n",
       "      <td>Stephen Paulus, composer</td>\n",
       "      <td>True</td>\n",
       "    </tr>\n",
       "    <tr>\n",
       "      <th>164</th>\n",
       "      <td>2019</td>\n",
       "      <td>62nd Annual GRAMMY Awards  (2019)</td>\n",
       "      <td>Best Improvised Jazz Solo</td>\n",
       "      <td>Sozinho</td>\n",
       "      <td>Randy Brecker</td>\n",
       "      <td>Randy Brecker, soloist</td>\n",
       "      <td>True</td>\n",
       "    </tr>\n",
       "    <tr>\n",
       "      <th>165</th>\n",
       "      <td>2019</td>\n",
       "      <td>62nd Annual GRAMMY Awards  (2019)</td>\n",
       "      <td>Best Improvised Jazz Solo</td>\n",
       "      <td>Elsewhere</td>\n",
       "      <td>Melissa Aldana</td>\n",
       "      <td>Melissa Aldana, soloist</td>\n",
       "      <td>True</td>\n",
       "    </tr>\n",
       "    <tr>\n",
       "      <th>166</th>\n",
       "      <td>2019</td>\n",
       "      <td>62nd Annual GRAMMY Awards  (2019)</td>\n",
       "      <td>Best Improvised Jazz Solo</td>\n",
       "      <td>Tomorrow Is The Question</td>\n",
       "      <td>Julian Lage</td>\n",
       "      <td>Julian Lage, soloist</td>\n",
       "      <td>True</td>\n",
       "    </tr>\n",
       "    <tr>\n",
       "      <th>167</th>\n",
       "      <td>2019</td>\n",
       "      <td>62nd Annual GRAMMY Awards  (2019)</td>\n",
       "      <td>Best Improvised Jazz Solo</td>\n",
       "      <td>The Windup</td>\n",
       "      <td>Branford Marsalis</td>\n",
       "      <td>Branford Marsalis, soloist</td>\n",
       "      <td>True</td>\n",
       "    </tr>\n",
       "  </tbody>\n",
       "</table>\n",
       "</div>"
      ],
      "text/plain": [
       "     year                              title  \\\n",
       "163  2015  58th Annual GRAMMY Awards  (2015)   \n",
       "164  2019  62nd Annual GRAMMY Awards  (2019)   \n",
       "165  2019  62nd Annual GRAMMY Awards  (2019)   \n",
       "166  2019  62nd Annual GRAMMY Awards  (2019)   \n",
       "167  2019  62nd Annual GRAMMY Awards  (2019)   \n",
       "\n",
       "                                    category                         nominee  \\\n",
       "163  Best Contemporary Classical Composition  Paulus: Prayers & Remembrances   \n",
       "164                Best Improvised Jazz Solo                         Sozinho   \n",
       "165                Best Improvised Jazz Solo                       Elsewhere   \n",
       "166                Best Improvised Jazz Solo        Tomorrow Is The Question   \n",
       "167                Best Improvised Jazz Solo                      The Windup   \n",
       "\n",
       "                artist                     workers  is_nominated  \n",
       "163     Stephen Paulus    Stephen Paulus, composer          True  \n",
       "164      Randy Brecker      Randy Brecker, soloist          True  \n",
       "165     Melissa Aldana     Melissa Aldana, soloist          True  \n",
       "166        Julian Lage        Julian Lage, soloist          True  \n",
       "167  Branford Marsalis  Branford Marsalis, soloist          True  "
      ]
     },
     "execution_count": 42,
     "metadata": {},
     "output_type": "execute_result"
    }
   ],
   "source": [
    "new_artists = df.loc[artist_index]\n",
    "new_artists.head()"
   ]
  },
  {
   "cell_type": "code",
   "execution_count": 43,
   "metadata": {},
   "outputs": [
    {
     "data": {
      "text/plain": [
       "year               0\n",
       "title              0\n",
       "category           0\n",
       "nominee            0\n",
       "artist             5\n",
       "workers         2156\n",
       "is_nominated       0\n",
       "dtype: int64"
      ]
     },
     "execution_count": 43,
     "metadata": {},
     "output_type": "execute_result"
    }
   ],
   "source": [
    "df.isna().sum()"
   ]
  },
  {
   "cell_type": "markdown",
   "metadata": {},
   "source": [
    "Dado que aquí solo encontramos producers y engineers/mixers, y no alguna de las categorías que seleccionamos antes, podemos eliminar estas filas."
   ]
  },
  {
   "cell_type": "code",
   "execution_count": 44,
   "metadata": {},
   "outputs": [
    {
     "data": {
      "text/html": [
       "<div>\n",
       "<style scoped>\n",
       "    .dataframe tbody tr th:only-of-type {\n",
       "        vertical-align: middle;\n",
       "    }\n",
       "\n",
       "    .dataframe tbody tr th {\n",
       "        vertical-align: top;\n",
       "    }\n",
       "\n",
       "    .dataframe thead th {\n",
       "        text-align: right;\n",
       "    }\n",
       "</style>\n",
       "<table border=\"1\" class=\"dataframe\">\n",
       "  <thead>\n",
       "    <tr style=\"text-align: right;\">\n",
       "      <th></th>\n",
       "      <th>year</th>\n",
       "      <th>title</th>\n",
       "      <th>category</th>\n",
       "      <th>nominee</th>\n",
       "      <th>artist</th>\n",
       "      <th>workers</th>\n",
       "      <th>is_nominated</th>\n",
       "    </tr>\n",
       "  </thead>\n",
       "  <tbody>\n",
       "    <tr>\n",
       "      <th>777</th>\n",
       "      <td>2015</td>\n",
       "      <td>58th Annual GRAMMY Awards  (2015)</td>\n",
       "      <td>Best Chamber Music/Small Ensemble Performance</td>\n",
       "      <td>Filament</td>\n",
       "      <td>None</td>\n",
       "      <td>Bryce Dessner, producer; Jonathan Low, engineer</td>\n",
       "      <td>True</td>\n",
       "    </tr>\n",
       "    <tr>\n",
       "      <th>861</th>\n",
       "      <td>2014</td>\n",
       "      <td>57th Annual GRAMMY Awards  (2014)</td>\n",
       "      <td>Best Chamber Music/Small Ensemble Performance</td>\n",
       "      <td>In 27 Pieces - The Hilary Hahn Encores</td>\n",
       "      <td>None</td>\n",
       "      <td>Hilary Hahn &amp; Andreas K. Meyer, producers; And...</td>\n",
       "      <td>True</td>\n",
       "    </tr>\n",
       "    <tr>\n",
       "      <th>1869</th>\n",
       "      <td>2004</td>\n",
       "      <td>47th Annual GRAMMY Awards  (2004)</td>\n",
       "      <td>Best Chamber Music Performance</td>\n",
       "      <td>Prokofiev (Arr. Pletnev): Cinderella - Suite F...</td>\n",
       "      <td>None</td>\n",
       "      <td>Christian Gansch, producer; Rainer Maillard, e...</td>\n",
       "      <td>True</td>\n",
       "    </tr>\n",
       "    <tr>\n",
       "      <th>2182</th>\n",
       "      <td>2001</td>\n",
       "      <td>44th Annual GRAMMY Awards  (2001)</td>\n",
       "      <td>Best Small Ensemble Performance (with or witho...</td>\n",
       "      <td>After Mozart - Raskatov, Silvestrov &amp; Schnittke</td>\n",
       "      <td>None</td>\n",
       "      <td>Gidon Kremer &amp; Helmut Mühle, producers; Philip...</td>\n",
       "      <td>True</td>\n",
       "    </tr>\n",
       "    <tr>\n",
       "      <th>2285</th>\n",
       "      <td>2000</td>\n",
       "      <td>43rd Annual GRAMMY Awards  (2000)</td>\n",
       "      <td>Best Small Ensemble Performance (with or witho...</td>\n",
       "      <td>Shadow Dances - Stravinsky Miniatures, Tango, ...</td>\n",
       "      <td>None</td>\n",
       "      <td>Christian Gansch, producer; Wolf-Dieter Karwat...</td>\n",
       "      <td>True</td>\n",
       "    </tr>\n",
       "  </tbody>\n",
       "</table>\n",
       "</div>"
      ],
      "text/plain": [
       "      year                              title  \\\n",
       "777   2015  58th Annual GRAMMY Awards  (2015)   \n",
       "861   2014  57th Annual GRAMMY Awards  (2014)   \n",
       "1869  2004  47th Annual GRAMMY Awards  (2004)   \n",
       "2182  2001  44th Annual GRAMMY Awards  (2001)   \n",
       "2285  2000  43rd Annual GRAMMY Awards  (2000)   \n",
       "\n",
       "                                               category  \\\n",
       "777       Best Chamber Music/Small Ensemble Performance   \n",
       "861       Best Chamber Music/Small Ensemble Performance   \n",
       "1869                     Best Chamber Music Performance   \n",
       "2182  Best Small Ensemble Performance (with or witho...   \n",
       "2285  Best Small Ensemble Performance (with or witho...   \n",
       "\n",
       "                                                nominee artist  \\\n",
       "777                                            Filament   None   \n",
       "861              In 27 Pieces - The Hilary Hahn Encores   None   \n",
       "1869  Prokofiev (Arr. Pletnev): Cinderella - Suite F...   None   \n",
       "2182    After Mozart - Raskatov, Silvestrov & Schnittke   None   \n",
       "2285  Shadow Dances - Stravinsky Miniatures, Tango, ...   None   \n",
       "\n",
       "                                                workers  is_nominated  \n",
       "777     Bryce Dessner, producer; Jonathan Low, engineer          True  \n",
       "861   Hilary Hahn & Andreas K. Meyer, producers; And...          True  \n",
       "1869  Christian Gansch, producer; Rainer Maillard, e...          True  \n",
       "2182  Gidon Kremer & Helmut Mühle, producers; Philip...          True  \n",
       "2285  Christian Gansch, producer; Wolf-Dieter Karwat...          True  "
      ]
     },
     "execution_count": 44,
     "metadata": {},
     "output_type": "execute_result"
    }
   ],
   "source": [
    "artist_null = df.loc[df[\"artist\"].isnull()]\n",
    "artist_null"
   ]
  },
  {
   "cell_type": "code",
   "execution_count": 45,
   "metadata": {},
   "outputs": [],
   "source": [
    "df = df.dropna(subset=[\"artist\"])"
   ]
  },
  {
   "cell_type": "markdown",
   "metadata": {},
   "source": [
    "Además, dijimos que ibamos a eliminar la columnas *workers*, pues solo nos era útil para las transformaciones que ibamos a realizar con la columna *artist*."
   ]
  },
  {
   "cell_type": "code",
   "execution_count": 46,
   "metadata": {},
   "outputs": [],
   "source": [
    "df = df.drop(columns=[\"workers\"])"
   ]
  },
  {
   "cell_type": "code",
   "execution_count": 47,
   "metadata": {},
   "outputs": [
    {
     "data": {
      "text/html": [
       "<div>\n",
       "<style scoped>\n",
       "    .dataframe tbody tr th:only-of-type {\n",
       "        vertical-align: middle;\n",
       "    }\n",
       "\n",
       "    .dataframe tbody tr th {\n",
       "        vertical-align: top;\n",
       "    }\n",
       "\n",
       "    .dataframe thead th {\n",
       "        text-align: right;\n",
       "    }\n",
       "</style>\n",
       "<table border=\"1\" class=\"dataframe\">\n",
       "  <thead>\n",
       "    <tr style=\"text-align: right;\">\n",
       "      <th></th>\n",
       "      <th>year</th>\n",
       "      <th>title</th>\n",
       "      <th>category</th>\n",
       "      <th>nominee</th>\n",
       "      <th>artist</th>\n",
       "      <th>is_nominated</th>\n",
       "    </tr>\n",
       "  </thead>\n",
       "  <tbody>\n",
       "    <tr>\n",
       "      <th>0</th>\n",
       "      <td>2019</td>\n",
       "      <td>62nd Annual GRAMMY Awards  (2019)</td>\n",
       "      <td>Record Of The Year</td>\n",
       "      <td>Bad Guy</td>\n",
       "      <td>Billie Eilish</td>\n",
       "      <td>True</td>\n",
       "    </tr>\n",
       "    <tr>\n",
       "      <th>1</th>\n",
       "      <td>2019</td>\n",
       "      <td>62nd Annual GRAMMY Awards  (2019)</td>\n",
       "      <td>Record Of The Year</td>\n",
       "      <td>Hey, Ma</td>\n",
       "      <td>Bon Iver</td>\n",
       "      <td>True</td>\n",
       "    </tr>\n",
       "    <tr>\n",
       "      <th>2</th>\n",
       "      <td>2019</td>\n",
       "      <td>62nd Annual GRAMMY Awards  (2019)</td>\n",
       "      <td>Record Of The Year</td>\n",
       "      <td>7 rings</td>\n",
       "      <td>Ariana Grande</td>\n",
       "      <td>True</td>\n",
       "    </tr>\n",
       "    <tr>\n",
       "      <th>3</th>\n",
       "      <td>2019</td>\n",
       "      <td>62nd Annual GRAMMY Awards  (2019)</td>\n",
       "      <td>Record Of The Year</td>\n",
       "      <td>Hard Place</td>\n",
       "      <td>H.E.R.</td>\n",
       "      <td>True</td>\n",
       "    </tr>\n",
       "    <tr>\n",
       "      <th>4</th>\n",
       "      <td>2019</td>\n",
       "      <td>62nd Annual GRAMMY Awards  (2019)</td>\n",
       "      <td>Record Of The Year</td>\n",
       "      <td>Talk</td>\n",
       "      <td>Khalid</td>\n",
       "      <td>True</td>\n",
       "    </tr>\n",
       "  </tbody>\n",
       "</table>\n",
       "</div>"
      ],
      "text/plain": [
       "   year                              title            category     nominee  \\\n",
       "0  2019  62nd Annual GRAMMY Awards  (2019)  Record Of The Year     Bad Guy   \n",
       "1  2019  62nd Annual GRAMMY Awards  (2019)  Record Of The Year     Hey, Ma   \n",
       "2  2019  62nd Annual GRAMMY Awards  (2019)  Record Of The Year     7 rings   \n",
       "3  2019  62nd Annual GRAMMY Awards  (2019)  Record Of The Year  Hard Place   \n",
       "4  2019  62nd Annual GRAMMY Awards  (2019)  Record Of The Year        Talk   \n",
       "\n",
       "          artist  is_nominated  \n",
       "0  Billie Eilish          True  \n",
       "1       Bon Iver          True  \n",
       "2  Ariana Grande          True  \n",
       "3         H.E.R.          True  \n",
       "4         Khalid          True  "
      ]
     },
     "execution_count": 47,
     "metadata": {},
     "output_type": "execute_result"
    }
   ],
   "source": [
    "df.head()"
   ]
  }
 ],
 "metadata": {
  "kernelspec": {
   "display_name": "workshop_#2_-_virtualenv_for_jupyter-YTnIm7kx-py3.12",
   "language": "python",
   "name": "python3"
  },
  "language_info": {
   "codemirror_mode": {
    "name": "ipython",
    "version": 3
   },
   "file_extension": ".py",
   "mimetype": "text/x-python",
   "name": "python",
   "nbconvert_exporter": "python",
   "pygments_lexer": "ipython3",
   "version": "3.12.3"
  }
 },
 "nbformat": 4,
 "nbformat_minor": 2
}
