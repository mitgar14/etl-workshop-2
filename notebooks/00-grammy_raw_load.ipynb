{
 "cells": [
  {
   "cell_type": "markdown",
   "metadata": {},
   "source": [
    "# **Workshop #2**\n",
    "\n",
    "### *Load of raw data - `the_grammy_awards` dataset*\n",
    "---"
   ]
  },
  {
   "cell_type": "markdown",
   "metadata": {},
   "source": [
    "In this notebook, we are working with the `the_grammy_awards` dataset. The workflow includes setting up the project directory, importing necessary dependencies, loading raw data from a CSV file into a Pandas DataFrame, and uploading the data to a PostgreSQL database for further analysis.\n",
    "\n",
    "With this workflow, we demonstrate the process of data ingestion and initial exploration, setting the stage for more detailed analysis and insights."
   ]
  },
  {
   "cell_type": "markdown",
   "metadata": {},
   "source": [
    "## ***Setting the project directory***\n",
    "\n",
    "This script attempts to change the current working directory to the specified path.\n",
    "If the directory change fails due to the directory not being found, it prints a message indicating that the user is already in the correct directory."
   ]
  },
  {
   "cell_type": "code",
   "execution_count": 1,
   "metadata": {},
   "outputs": [],
   "source": [
    "import os\n",
    "\n",
    "try:\n",
    "    os.chdir(\"../../Workshop #2\")\n",
    "except FileNotFoundError:\n",
    "    print(\"You are already in the correct directory.\")"
   ]
  },
  {
   "cell_type": "markdown",
   "metadata": {},
   "source": [
    "## ***Importing dependencies***\n",
    "\n",
    "**Modules:**\n",
    "* **src.database.db_operations**: Custom module for database operations.\n",
    "\n",
    "**For this environment we are using:**\n",
    "* ***Pandas*** >= 2.2.2\n",
    "\n",
    "**From the src.db module, we are also using:**\n",
    "* ***SQLAlchemy*** >= 2.0.32\n",
    "    * *SQLAlchemy Utils* >= 0.41.2\n",
    "* ***python-dotenv*** >= 1.0.1"
   ]
  },
  {
   "cell_type": "code",
   "execution_count": 2,
   "metadata": {},
   "outputs": [],
   "source": [
    "from src.database.db_operations import creating_engine, load_raw_data\n",
    "\n",
    "import pandas as pd"
   ]
  },
  {
   "cell_type": "markdown",
   "metadata": {},
   "source": [
    "## ***Loading the raw data***"
   ]
  },
  {
   "cell_type": "markdown",
   "metadata": {},
   "source": [
    "### **Turning the CSV into a Pandas Dataframe object**\n",
    "\n",
    "In this code block, data is loaded from a CSV file located at `data/raw/the_grammy_awards.csv` using the `pandas` library. The `pd.read_csv` function reads the file and converts it into a DataFrame. \n",
    "\n",
    "Subsequently, the `head()` method of the DataFrame is used to display the first few rows of the dataset, providing a quick and preliminary view of the CSV file's content. This initial visualization is useful for verifying that the data has been loaded correctly and for getting a general idea of the dataset's structure and content."
   ]
  },
  {
   "cell_type": "code",
   "execution_count": 3,
   "metadata": {},
   "outputs": [
    {
     "data": {
      "text/html": [
       "<div>\n",
       "<style scoped>\n",
       "    .dataframe tbody tr th:only-of-type {\n",
       "        vertical-align: middle;\n",
       "    }\n",
       "\n",
       "    .dataframe tbody tr th {\n",
       "        vertical-align: top;\n",
       "    }\n",
       "\n",
       "    .dataframe thead th {\n",
       "        text-align: right;\n",
       "    }\n",
       "</style>\n",
       "<table border=\"1\" class=\"dataframe\">\n",
       "  <thead>\n",
       "    <tr style=\"text-align: right;\">\n",
       "      <th></th>\n",
       "      <th>year</th>\n",
       "      <th>title</th>\n",
       "      <th>published_at</th>\n",
       "      <th>updated_at</th>\n",
       "      <th>category</th>\n",
       "      <th>nominee</th>\n",
       "      <th>artist</th>\n",
       "      <th>workers</th>\n",
       "      <th>img</th>\n",
       "      <th>winner</th>\n",
       "    </tr>\n",
       "  </thead>\n",
       "  <tbody>\n",
       "    <tr>\n",
       "      <th>0</th>\n",
       "      <td>2019</td>\n",
       "      <td>62nd Annual GRAMMY Awards  (2019)</td>\n",
       "      <td>2020-05-19T05:10:28-07:00</td>\n",
       "      <td>2020-05-19T05:10:28-07:00</td>\n",
       "      <td>Record Of The Year</td>\n",
       "      <td>Bad Guy</td>\n",
       "      <td>Billie Eilish</td>\n",
       "      <td>Finneas O'Connell, producer; Rob Kinelski &amp; Fi...</td>\n",
       "      <td>https://www.grammy.com/sites/com/files/styles/...</td>\n",
       "      <td>True</td>\n",
       "    </tr>\n",
       "    <tr>\n",
       "      <th>1</th>\n",
       "      <td>2019</td>\n",
       "      <td>62nd Annual GRAMMY Awards  (2019)</td>\n",
       "      <td>2020-05-19T05:10:28-07:00</td>\n",
       "      <td>2020-05-19T05:10:28-07:00</td>\n",
       "      <td>Record Of The Year</td>\n",
       "      <td>Hey, Ma</td>\n",
       "      <td>Bon Iver</td>\n",
       "      <td>BJ Burton, Brad Cook, Chris Messina &amp; Justin V...</td>\n",
       "      <td>https://www.grammy.com/sites/com/files/styles/...</td>\n",
       "      <td>True</td>\n",
       "    </tr>\n",
       "    <tr>\n",
       "      <th>2</th>\n",
       "      <td>2019</td>\n",
       "      <td>62nd Annual GRAMMY Awards  (2019)</td>\n",
       "      <td>2020-05-19T05:10:28-07:00</td>\n",
       "      <td>2020-05-19T05:10:28-07:00</td>\n",
       "      <td>Record Of The Year</td>\n",
       "      <td>7 rings</td>\n",
       "      <td>Ariana Grande</td>\n",
       "      <td>Charles Anderson, Tommy Brown, Michael Foster ...</td>\n",
       "      <td>https://www.grammy.com/sites/com/files/styles/...</td>\n",
       "      <td>True</td>\n",
       "    </tr>\n",
       "    <tr>\n",
       "      <th>3</th>\n",
       "      <td>2019</td>\n",
       "      <td>62nd Annual GRAMMY Awards  (2019)</td>\n",
       "      <td>2020-05-19T05:10:28-07:00</td>\n",
       "      <td>2020-05-19T05:10:28-07:00</td>\n",
       "      <td>Record Of The Year</td>\n",
       "      <td>Hard Place</td>\n",
       "      <td>H.E.R.</td>\n",
       "      <td>Rodney “Darkchild” Jerkins, producer; Joseph H...</td>\n",
       "      <td>https://www.grammy.com/sites/com/files/styles/...</td>\n",
       "      <td>True</td>\n",
       "    </tr>\n",
       "    <tr>\n",
       "      <th>4</th>\n",
       "      <td>2019</td>\n",
       "      <td>62nd Annual GRAMMY Awards  (2019)</td>\n",
       "      <td>2020-05-19T05:10:28-07:00</td>\n",
       "      <td>2020-05-19T05:10:28-07:00</td>\n",
       "      <td>Record Of The Year</td>\n",
       "      <td>Talk</td>\n",
       "      <td>Khalid</td>\n",
       "      <td>Disclosure &amp; Denis Kosiak, producers; Ingmar C...</td>\n",
       "      <td>https://www.grammy.com/sites/com/files/styles/...</td>\n",
       "      <td>True</td>\n",
       "    </tr>\n",
       "  </tbody>\n",
       "</table>\n",
       "</div>"
      ],
      "text/plain": [
       "   year                              title               published_at  \\\n",
       "0  2019  62nd Annual GRAMMY Awards  (2019)  2020-05-19T05:10:28-07:00   \n",
       "1  2019  62nd Annual GRAMMY Awards  (2019)  2020-05-19T05:10:28-07:00   \n",
       "2  2019  62nd Annual GRAMMY Awards  (2019)  2020-05-19T05:10:28-07:00   \n",
       "3  2019  62nd Annual GRAMMY Awards  (2019)  2020-05-19T05:10:28-07:00   \n",
       "4  2019  62nd Annual GRAMMY Awards  (2019)  2020-05-19T05:10:28-07:00   \n",
       "\n",
       "                  updated_at            category     nominee         artist  \\\n",
       "0  2020-05-19T05:10:28-07:00  Record Of The Year     Bad Guy  Billie Eilish   \n",
       "1  2020-05-19T05:10:28-07:00  Record Of The Year     Hey, Ma       Bon Iver   \n",
       "2  2020-05-19T05:10:28-07:00  Record Of The Year     7 rings  Ariana Grande   \n",
       "3  2020-05-19T05:10:28-07:00  Record Of The Year  Hard Place         H.E.R.   \n",
       "4  2020-05-19T05:10:28-07:00  Record Of The Year        Talk         Khalid   \n",
       "\n",
       "                                             workers  \\\n",
       "0  Finneas O'Connell, producer; Rob Kinelski & Fi...   \n",
       "1  BJ Burton, Brad Cook, Chris Messina & Justin V...   \n",
       "2  Charles Anderson, Tommy Brown, Michael Foster ...   \n",
       "3  Rodney “Darkchild” Jerkins, producer; Joseph H...   \n",
       "4  Disclosure & Denis Kosiak, producers; Ingmar C...   \n",
       "\n",
       "                                                 img  winner  \n",
       "0  https://www.grammy.com/sites/com/files/styles/...    True  \n",
       "1  https://www.grammy.com/sites/com/files/styles/...    True  \n",
       "2  https://www.grammy.com/sites/com/files/styles/...    True  \n",
       "3  https://www.grammy.com/sites/com/files/styles/...    True  \n",
       "4  https://www.grammy.com/sites/com/files/styles/...    True  "
      ]
     },
     "execution_count": 3,
     "metadata": {},
     "output_type": "execute_result"
    }
   ],
   "source": [
    "df = pd.read_csv(\"data/raw/the_grammy_awards.csv\")\n",
    "df.head()"
   ]
  },
  {
   "cell_type": "markdown",
   "metadata": {},
   "source": [
    "Additionally, the `info()` method of the DataFrame is used to provide a concise summary of the dataset. This summary includes the number of non-null entries, the data type of each column, and the memory usage of the DataFrame. The `info()` method is particularly useful for understanding the overall structure of the dataset, identifying missing values, and ensuring that the data types are as expected."
   ]
  },
  {
   "cell_type": "code",
   "execution_count": 4,
   "metadata": {},
   "outputs": [
    {
     "name": "stdout",
     "output_type": "stream",
     "text": [
      "<class 'pandas.core.frame.DataFrame'>\n",
      "RangeIndex: 4810 entries, 0 to 4809\n",
      "Data columns (total 10 columns):\n",
      " #   Column        Non-Null Count  Dtype \n",
      "---  ------        --------------  ----- \n",
      " 0   year          4810 non-null   int64 \n",
      " 1   title         4810 non-null   object\n",
      " 2   published_at  4810 non-null   object\n",
      " 3   updated_at    4810 non-null   object\n",
      " 4   category      4810 non-null   object\n",
      " 5   nominee       4804 non-null   object\n",
      " 6   artist        2970 non-null   object\n",
      " 7   workers       2620 non-null   object\n",
      " 8   img           3443 non-null   object\n",
      " 9   winner        4810 non-null   bool  \n",
      "dtypes: bool(1), int64(1), object(8)\n",
      "memory usage: 343.0+ KB\n"
     ]
    }
   ],
   "source": [
    "df.info()"
   ]
  },
  {
   "cell_type": "markdown",
   "metadata": {},
   "source": [
    "### **Uploading the data to PostgreSQL**\n",
    "\n",
    "In this code block, the function `load_raw_data` is used to load the raw data into a database. The function takes three parameters:\n",
    "\n",
    "1. `engine`: This is the SQLAlchemy engine that establishes the connection to the database where the data will be loaded.\n",
    "2. `df`: This is the DataFrame containing the raw data that has been read from the CSV file.\n",
    "3. `grammy_awards_raw`: This is the name of the table in the database where the raw data will be stored.\n",
    "\n",
    "By calling `load_raw_data(engine, df, \"grammy_awards_raw\")`, the DataFrame `df` is loaded into the specified table in the database, allowing for further processing and analysis within a structured database environment."
   ]
  },
  {
   "cell_type": "code",
   "execution_count": 5,
   "metadata": {},
   "outputs": [
    {
     "name": "stderr",
     "output_type": "stream",
     "text": [
      "09/14/2024 02:04:49 PM Engine created. You can now connect to the database.\n"
     ]
    }
   ],
   "source": [
    "engine = creating_engine()"
   ]
  },
  {
   "cell_type": "code",
   "execution_count": 6,
   "metadata": {},
   "outputs": [
    {
     "name": "stderr",
     "output_type": "stream",
     "text": [
      "09/14/2024 02:04:49 PM Creating table grammy_awards_raw from Pandas DataFrame\n",
      "09/14/2024 02:04:50 PM Table grammy_awards_raw created successfully.\n"
     ]
    }
   ],
   "source": [
    "load_raw_data(engine, df, \"grammy_awards_raw\")"
   ]
  }
 ],
 "metadata": {
  "kernelspec": {
   "display_name": "Python 3",
   "language": "python",
   "name": "python3"
  },
  "language_info": {
   "codemirror_mode": {
    "name": "ipython",
    "version": 3
   },
   "file_extension": ".py",
   "mimetype": "text/x-python",
   "name": "python",
   "nbconvert_exporter": "python",
   "pygments_lexer": "ipython3",
   "version": "3.12.3"
  }
 },
 "nbformat": 4,
 "nbformat_minor": 2
}
